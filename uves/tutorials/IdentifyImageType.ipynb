{
 "cells": [
  {
   "cell_type": "code",
   "execution_count": 42,
   "metadata": {},
   "outputs": [],
   "source": [
    "# This notebook identify the image type based in a set of different descriptors\n",
    "from azure.storage.blob import BlockBlobService, PublicAccess\n",
    "import sys\n",
    "sys.path.append('./')"
   ]
  },
  {
   "cell_type": "code",
   "execution_count": 43,
   "metadata": {},
   "outputs": [
    {
     "data": {
      "text/plain": [
       "<azure.storage.blob.models.ResourceProperties at 0x7f5e6f26eb38>"
      ]
     },
     "execution_count": 43,
     "metadata": {},
     "output_type": "execute_result"
    }
   ],
   "source": [
    "# Take credential and access to azure blob storage\n",
    "import config_blob_keys as cfg\n",
    "\n",
    "account_name = cfg.AccountName\n",
    "account_key = cfg.AccountKey\n",
    "\n",
    "block_blob_service = BlockBlobService(account_name=account_name, account_key=account_key)\n",
    "\n",
    "cont_name_analysis = cfg.ContNameAnalysis\n",
    "block_blob_service.set_container_acl(cont_name_analysis, public_access=PublicAccess.Container)\n",
    "\n",
    "cont_name_desc = cfg.ContNameDesc\n",
    "block_blob_service.set_container_acl(cont_name_desc, public_access=PublicAccess.Container)\n",
    "\n",
    "cont_name_desc_cor = cfg.ContNameDescCor\n",
    "block_blob_service.set_container_acl(cont_name_desc_cor, public_access=PublicAccess.Container)"
   ]
  },
  {
   "cell_type": "code",
   "execution_count": 44,
   "metadata": {},
   "outputs": [],
   "source": [
    "# Functions to work with azure blobs\n",
    "def BlobList(container, folder, filelist, verbose=False):\n",
    "    \n",
    "    gen = block_blob_service.list_blobs(container, prefix=folder)\n",
    "    \n",
    "    for blob in gen:\n",
    "        file = str(blob.name).replace(folder,'')\n",
    "        filelist.append(file)\n",
    "        if verbose == True:\n",
    "            print(\"\\t Blob name: \" + blob.name)\n",
    "        \n",
    "    return filelist\n",
    "\n",
    "# Download a file \"blobfile\" from \"container\" and save it \n",
    "# in the file \"locfile\"\n",
    "def DownBlob(container, blobfile, locfile, verbose=False):\n",
    "    \n",
    "    if verbose == True:\n",
    "        print('Downloading ' + blobfile + ' to ' + locfile)\n",
    "    \n",
    "    block_blob_service.get_blob_to_path(container, blobfile, locfile)\n",
    "\n",
    "    if verbose == True:\n",
    "        print('Downloading ' + blobfile + ' to ' + locfile)\n",
    "    \n",
    "\n",
    "# Uncompress data \n",
    "def UnCompress(file, verbose=False):\n",
    "    \n",
    "    if verbose == True:\n",
    "        print('Uncompressing ' + file)\n",
    "    \n",
    "    subprocess.call(['uncompress', file])\n",
    "    #os.popen('uncompress ' + file)\n",
    "\n",
    "# Upload file \"locfile\" to the blob \"blobfile\" in container\n",
    "def UpBlob(container, blobfile, locfile, verbose=False):\n",
    "    \n",
    "    if verbose == True:\n",
    "        print('Uploading ' + locfile + ' to ' + blobfile)\n",
    "        \n",
    "    block_blob_service.create_blob_from_path(container, blobfile, locfile, validate_content=True)\n"
   ]
  },
  {
   "cell_type": "code",
   "execution_count": 45,
   "metadata": {},
   "outputs": [],
   "source": [
    "# Funtions to visualize images maps and images histograms\n",
    "def DisplayHist(imgood, imbad, verbose=False):\n",
    "\n",
    "    im_data_g = np.load(imgood)\n",
    "    im_mean_g = np.mean(im_data_g)\n",
    "    im_median_g = np.median(im_data_g)\n",
    "    im_std_g = np.std(im_data_g)\n",
    "    \n",
    "    im_data_b = np.load(imbad)\n",
    "    im_mean_b = np.mean(im_data_b)\n",
    "    im_median_b = np.median(im_data_b)\n",
    "    im_std_b = np.std(im_data_b)\n",
    "        \n",
    "    im_median = 0.5*(im_median_g + im_median_b)\n",
    "    im_mean = 0.5*(im_mean_g + im_mean_b)\n",
    "    im_std = 0.5*(im_std_g + im_std_b)\n",
    "    \n",
    "    print(\"DMean: \", (im_mean_g-im_mean_b)/im_mean_g)\n",
    "    print(\"DMedian: \", (im_median_g-im_median_b)/im_median_g)\n",
    "    print(\"DStdDev: \", (im_std_g-im_std_b)/im_std_g)\n",
    "        \n",
    "    nbins = 100\n",
    "    hist, bins, _ = plt.hist(np.ndarray.flatten(im_data_g), bins=nbins)\n",
    "    plt.clf()\n",
    "    #plt.figure(figsize=(10, 5))\n",
    "    logbins = np.logspace(np.log10(bins[0]),np.log10(bins[-1]),len(bins))\n",
    "    fig, ax = plt.subplots(figsize=(8,4))\n",
    "    plt.hist(np.ndarray.flatten(im_data_g), bins=logbins, range=[im_median/2, im_median*5], alpha=0.5, label = 'Good')\n",
    "    plt.hist(np.ndarray.flatten(im_data_b), bins=logbins, range=[im_median/2, im_median*5], alpha=0.5, label = 'Bad')\n",
    "    plt.legend()\n",
    "    plt.title('Histogram')\n",
    "    ax.set_yscale('log')\n",
    "    plt.xscale('log')\n",
    "    plt.xlabel('counts')\n",
    "    plt.ylabel('# counts')\n",
    "    plt.grid()\n",
    "    plt.show()\n",
    "    #fig.savefig(imnameb)\n",
    "    \n",
    "def DisplayMaps(imgood, imbad, verbose=False):\n",
    "    \n",
    "    im_data_g = np.load(imgood)\n",
    "    im_mean_g = np.mean(im_data_g)\n",
    "    im_median_g = np.median(im_data_g)\n",
    "    im_std_g = np.std(im_data_g)\n",
    "    \n",
    "    im_data_b = np.load(imbad)\n",
    "    im_mean_b = np.mean(im_data_b)\n",
    "    im_median_b = np.median(im_data_b)\n",
    "    im_std_b = np.std(im_data_b)\n",
    "        \n",
    "    im_median = 0.5*(im_median_g + im_median_b)    \n",
    "    im_std = 0.5*(im_std_g + im_std_b)    \n",
    "    \n",
    "    fig, axrr = plt.subplots(1, 2, figsize=(10,12))\n",
    "    #fig, ax = plt.subplots(figsize=(3,4))\n",
    "    im = axrr[0].imshow(im_data_g, origin='lower', interpolation='nearest', vmin=im_median_g-im_std_g, vmax=im_median_g+2*im_std_g, cmap='Greys_r')\n",
    "    axrr[0].set_title('Good')\n",
    "    plt.tight_layout()\n",
    "    axrr[0].set_xlabel('x')\n",
    "    axrr[0].set_ylabel('y')\n",
    "\n",
    "    #plt.subplot(1, 2, 2)\n",
    "    #fig, ax = plt.subplots(figsize=(3,4))\n",
    "    #fig, axrr = plt.subplots(1, 2, figsize=(16,8))\n",
    "    im = axrr[1].imshow(im_data_b, origin='lower', interpolation='nearest', vmin=im_median_b-im_std_b, vmax=im_median_b+2*im_std_b, cmap='Greys_r')\n",
    "    axrr[1].set_title('Bad')\n",
    "    plt.tight_layout()\n",
    "    axrr[1].set_xlabel('x')\n",
    "    axrr[1].set_ylabel('y')\n",
    "    \n",
    "    plt.show()\n",
    "    #fig.savefig(imnamea)"
   ]
  },
  {
   "cell_type": "code",
   "execution_count": 46,
   "metadata": {},
   "outputs": [],
   "source": [
    "import pandas as pd\n",
    "import numpy as np\n",
    "#import utils_blob as ub\n",
    "import os\n",
    "import multiprocessing\n",
    "import tqdm\n",
    "import time\n",
    "import random\n",
    "import matplotlib.pyplot as plt\n",
    "import warnings\n",
    "from functools import partial\n",
    "\n",
    "warnings.simplefilter(\"ignore\")"
   ]
  },
  {
   "cell_type": "code",
   "execution_count": 47,
   "metadata": {},
   "outputs": [
    {
     "name": "stdout",
     "output_type": "stream",
     "text": [
      "Taking data from  numpy/method4 .\n",
      "Working on UVES_BLUE_BIAS extension ext0...\n",
      "\n",
      "Good images...\n"
     ]
    },
    {
     "data": {
      "application/vnd.jupyter.widget-view+json": {
       "model_id": "3f7194d0468c4933a4a587973718a1fa",
       "version_major": 2,
       "version_minor": 0
      },
      "text/plain": [
       "HBox(children=(IntProgress(value=0), HTML(value='')))"
      ]
     },
     "metadata": {},
     "output_type": "display_data"
    },
    {
     "name": "stdout",
     "output_type": "stream",
     "text": [
      "\n",
      "Working on UVES_RED_BIAS extension ext1...\n",
      "\n",
      "Good images...\n"
     ]
    },
    {
     "data": {
      "application/vnd.jupyter.widget-view+json": {
       "model_id": "c335f6cd352047c8b5cb3f2fe8e228db",
       "version_major": 2,
       "version_minor": 0
      },
      "text/plain": [
       "HBox(children=(IntProgress(value=0), HTML(value='')))"
      ]
     },
     "metadata": {},
     "output_type": "display_data"
    },
    {
     "name": "stdout",
     "output_type": "stream",
     "text": [
      "\n",
      "Working on UVES_RED_BIAS extension ext2...\n",
      "\n",
      "Good images...\n"
     ]
    },
    {
     "data": {
      "application/vnd.jupyter.widget-view+json": {
       "model_id": "d8e977b4bac947a9abb669450429832c",
       "version_major": 2,
       "version_minor": 0
      },
      "text/plain": [
       "HBox(children=(IntProgress(value=0), HTML(value='')))"
      ]
     },
     "metadata": {},
     "output_type": "display_data"
    },
    {
     "name": "stdout",
     "output_type": "stream",
     "text": [
      "\n",
      "Working on UVES_BLUE_WAVE extension ext1...\n",
      "\n",
      "Good images...\n"
     ]
    },
    {
     "data": {
      "application/vnd.jupyter.widget-view+json": {
       "model_id": "b5e113fef194461487a892f8b6071d53",
       "version_major": 2,
       "version_minor": 0
      },
      "text/plain": [
       "HBox(children=(IntProgress(value=0), HTML(value='')))"
      ]
     },
     "metadata": {},
     "output_type": "display_data"
    },
    {
     "name": "stdout",
     "output_type": "stream",
     "text": [
      "\n",
      "Working on UVES_BLUE_WAVE extension ext2...\n",
      "\n",
      "Good images...\n"
     ]
    },
    {
     "data": {
      "application/vnd.jupyter.widget-view+json": {
       "model_id": "68fc7871599e4a34ae763e4e36e470d3",
       "version_major": 2,
       "version_minor": 0
      },
      "text/plain": [
       "HBox(children=(IntProgress(value=0), HTML(value='')))"
      ]
     },
     "metadata": {},
     "output_type": "display_data"
    },
    {
     "name": "stdout",
     "output_type": "stream",
     "text": [
      "\n",
      "Working on UVES_DIC1B_FLAT extension ext0...\n",
      "\n",
      "Good images...\n"
     ]
    },
    {
     "data": {
      "application/vnd.jupyter.widget-view+json": {
       "model_id": "64a505c11cff4e4493fbe12afa8d535e",
       "version_major": 2,
       "version_minor": 0
      },
      "text/plain": [
       "HBox(children=(IntProgress(value=0), HTML(value='')))"
      ]
     },
     "metadata": {},
     "output_type": "display_data"
    },
    {
     "name": "stdout",
     "output_type": "stream",
     "text": [
      "\n",
      "Working on UVES_DIC1B_DFLAT extension ext0...\n",
      "\n",
      "Good images...\n"
     ]
    },
    {
     "data": {
      "application/vnd.jupyter.widget-view+json": {
       "model_id": "8b4d6cc1a9b84361af94290d6719854f",
       "version_major": 2,
       "version_minor": 0
      },
      "text/plain": [
       "HBox(children=(IntProgress(value=0), HTML(value='')))"
      ]
     },
     "metadata": {},
     "output_type": "display_data"
    },
    {
     "name": "stdout",
     "output_type": "stream",
     "text": [
      "\n",
      "Working on UVES_RED_WAVE extension ext1...\n",
      "\n",
      "Good images...\n"
     ]
    },
    {
     "data": {
      "application/vnd.jupyter.widget-view+json": {
       "model_id": "b0c85f352933428cbcbd6124f07b7c16",
       "version_major": 2,
       "version_minor": 0
      },
      "text/plain": [
       "HBox(children=(IntProgress(value=0), HTML(value='')))"
      ]
     },
     "metadata": {},
     "output_type": "display_data"
    },
    {
     "name": "stdout",
     "output_type": "stream",
     "text": [
      "\n",
      "Working on UVES_RED_WAVE extension ext2...\n",
      "\n",
      "Good images...\n"
     ]
    },
    {
     "data": {
      "application/vnd.jupyter.widget-view+json": {
       "model_id": "656f6d7b375749cda6929ac081633fe5",
       "version_major": 2,
       "version_minor": 0
      },
      "text/plain": [
       "HBox(children=(IntProgress(value=0), HTML(value='')))"
      ]
     },
     "metadata": {},
     "output_type": "display_data"
    },
    {
     "name": "stdout",
     "output_type": "stream",
     "text": [
      "\n",
      "Working on UVES_DIC1R_FLAT extension ext1...\n",
      "\n",
      "Good images...\n"
     ]
    },
    {
     "data": {
      "application/vnd.jupyter.widget-view+json": {
       "model_id": "2d02a3e0705f4a9e97add9f7d758d28f",
       "version_major": 2,
       "version_minor": 0
      },
      "text/plain": [
       "HBox(children=(IntProgress(value=0), HTML(value='')))"
      ]
     },
     "metadata": {},
     "output_type": "display_data"
    },
    {
     "name": "stdout",
     "output_type": "stream",
     "text": [
      "\n",
      "Working on UVES_DIC1R_FLAT extension ext2...\n",
      "\n",
      "Good images...\n"
     ]
    },
    {
     "data": {
      "application/vnd.jupyter.widget-view+json": {
       "model_id": "6be848a59edb475aa632bcad6398fe74",
       "version_major": 2,
       "version_minor": 0
      },
      "text/plain": [
       "HBox(children=(IntProgress(value=0), HTML(value='')))"
      ]
     },
     "metadata": {},
     "output_type": "display_data"
    },
    {
     "name": "stdout",
     "output_type": "stream",
     "text": [
      "\n"
     ]
    }
   ],
   "source": [
    "# This cell select nsample descriptors from blob storage for a method method_dir\n",
    "# The selection can be done for a given year\n",
    "nsample = 100\n",
    "\n",
    "method_dir = 'numpy/method4'\n",
    "\n",
    "random.seed(100)\n",
    "save_fig = False\n",
    "select_year = False\n",
    "year = '2017'\n",
    "\n",
    "DescBlobSubDirs = ['UVES_BLUE_BIAS','UVES_RED_BIAS','UVES_BLUE_WAVE','UVES_DIC1B_FLAT','UVES_DIC1B_DFLAT','UVES_RED_WAVE','UVES_DIC1R_FLAT']\n",
    "UVESimtype = 'UVES_BLUE_BIAS'\n",
    "imag_dim = 11#len(DescBlobSubDirs)\n",
    "desc_dim = 2048\n",
    "samp_dim = nsample\n",
    "cube_good = np.zeros((imag_dim,samp_dim,desc_dim))\n",
    "cube_bad  = np.zeros((imag_dim,samp_dim,desc_dim))\n",
    "cube      = np.zeros((imag_dim,samp_dim,desc_dim))\n",
    "path_loc = '../Temp/test'\n",
    "desc_name = []\n",
    "i = 0\n",
    "\n",
    "print('Taking data from ',method_dir,'.')\n",
    "# Loof for images type folder\n",
    "for desc_blob_sub_dir in DescBlobSubDirs:\n",
    "    \n",
    "    # Images extensions    \n",
    "    if desc_blob_sub_dir == 'UVES_BLUE_BIAS' or desc_blob_sub_dir == 'UVES_DIC1B_FLAT' or desc_blob_sub_dir == 'UVES_DIC1B_DFLAT':\n",
    "        Exten = [0]\n",
    "    elif desc_blob_sub_dir == 'UVES_RED_BIAS' or desc_blob_sub_dir == 'UVES_BLUE_WAVE' or desc_blob_sub_dir == 'UVES_RED_WAVE' or desc_blob_sub_dir == 'UVES_DIC1R_FLAT':\n",
    "        Exten = [1,2]\n",
    "    \n",
    "    # Define the image type\n",
    "    if desc_blob_sub_dir == 'UVES_BLUE_BIAS':\n",
    "        image_type = 'bias_blue'\n",
    "        abr_name = 'UBB'\n",
    "    elif desc_blob_sub_dir == 'UVES_RED_BIAS':\n",
    "        image_type = 'URB'\n",
    "    elif desc_blob_sub_dir == 'UVES_BLUE_WAVE' or desc_blob_sub_dir == 'UVES_DIC1B_FLAT' or desc_blob_sub_dir == 'UVES_DIC1B_DFLAT':\n",
    "        image_type = 'blue_arc_flat'\n",
    "        if desc_blob_sub_dir == 'UVES_BLUE_WAVE':\n",
    "            abr_name = 'UBW'\n",
    "        elif desc_blob_sub_dir == 'UVES_DIC1B_FLAT':\n",
    "            abr_name = 'UD1BF'\n",
    "        elif desc_blob_sub_dir == 'UVES_DIC1B_DFLAT':\n",
    "            abr_name = 'UD1BDF'\n",
    "    elif desc_blob_sub_dir == 'UVES_RED_WAVE' or desc_blob_sub_dir == 'UVES_DIC1R_FLAT':\n",
    "        image_type = 'red_arc_flat'\n",
    "        if desc_blob_sub_dir == 'UVES_RED_WAVE':\n",
    "            abr_name = 'URW'\n",
    "        elif desc_blob_sub_dir == 'UVES_DIC1R_FLAT':\n",
    "            abr_name = 'UD1RF'\n",
    "\n",
    "    # Take bad image names\n",
    "    PROJECT_DIR = \"/data/notebooks/uves_jprieto\"\n",
    "    DATA_DIR = os.path.join(PROJECT_DIR, \"data\")\n",
    "    \n",
    "    uves_flag_file=os.path.join(DATA_DIR, 'UVES_hidden_flag_results.txt')\n",
    "    uves_flag_df=pd.read_csv(uves_flag_file, comment='#', sep=';')\n",
    "    corrupted_df = uves_flag_df[(uves_flag_df['image_type'] == image_type) & (uves_flag_df['flag'] == 'CORRUPTED')]\n",
    "    bad_files_garchim = list(corrupted_df['filename']) \n",
    "    \n",
    "    # Loop for images extensions\n",
    "    for ext in Exten:\n",
    "        abr_name = abr_name + str(ext)\n",
    "        extension = 'ext'+str(ext)\n",
    "        print('Working on ' + desc_blob_sub_dir + ' extension ' + extension + '...\\n')\n",
    "        \n",
    "        # Bad Garchim images\n",
    "        # ----------------------------------------------------------------------\n",
    "        desc_folder_rem = os.path.join(method_dir,desc_blob_sub_dir)\n",
    "        desc_folder_rem = os.path.join(desc_folder_rem,extension)\n",
    "        \n",
    "        desc_files_list = []\n",
    "        BlobList(cont_name_desc, desc_folder_rem, desc_files_list)\n",
    "        \n",
    "        desc_cor_list = []\n",
    "        desc_files_list = [s for s in desc_files_list if any(xs in s for xs in bad_files_garchim)]\n",
    "        \n",
    "        if len(desc_files_list) >= nsample:\n",
    "            desc_files_list = random.sample(desc_files_list, nsample)\n",
    "        desc_badg_files = desc_files_list\n",
    "\n",
    "        # Good images method\n",
    "        # ----------------------------------------------------------------------\n",
    "        desc_folder_rem = os.path.join(method_dir,desc_blob_sub_dir)\n",
    "        desc_folder_rem = os.path.join(desc_folder_rem,extension)\n",
    "        \n",
    "        desc_files_list = []\n",
    "        BlobList(cont_name_desc, desc_folder_rem, desc_files_list)\n",
    "        \n",
    "        desc_files_list = [s for s in desc_files_list if s not in bad_files_garchim]\n",
    "        if select_year==True:\n",
    "            desc_files_list = [s for s in desc_files_list if year in s]\n",
    "            if len(desc_files_list) >= nsample:\n",
    "                desc_files_list = random.sample(desc_files_list, nsample)\n",
    "        elif select_year==False:\n",
    "            if len(desc_files_list) >= nsample:\n",
    "                desc_files_list = random.sample(desc_files_list, nsample)        \n",
    "        desc_good_files = desc_files_list\n",
    "        \n",
    "        desc_temp = np.zeros(2048).T\n",
    "        desc_matrix = np.expand_dims(desc_temp,axis=0)\n",
    "\n",
    "        im_abr = []\n",
    "        print('Good images...')\n",
    "        with tqdm.tqdm_notebook(total=len(desc_files_list)) as pbar:\n",
    "            for idx in range(len(desc_files_list)):\n",
    "                \n",
    "                name = abr_name + str(idx)\n",
    "                im_abr.append(name)\n",
    "                file = desc_files_list[idx]\n",
    "                desc_blob_name = desc_folder_rem + file\n",
    "                descriptor_file = path_loc + file\n",
    "\n",
    "                DownBlob(cont_name_desc, desc_blob_name, descriptor_file, False)\n",
    "                \n",
    "                while not os.path.exists(descriptor_file):\n",
    "                    time.sleep(0.1)\n",
    "\n",
    "                desc_resNet50 = np.load(descriptor_file)\n",
    "                np_desc = np.array(desc_resNet50)\n",
    "                desc_matrix = np.vstack((desc_matrix,np_desc))\n",
    "                os.remove(descriptor_file)\n",
    "                pbar.update(1)\n",
    "        \n",
    "        desc_name.append(im_abr)\n",
    "        desc_good = np.delete(desc_matrix,0,axis=0)\n",
    "        cube_good[i,:,:] = desc_good \n",
    "        i+=1"
   ]
  },
  {
   "cell_type": "code",
   "execution_count": 48,
   "metadata": {},
   "outputs": [],
   "source": [
    "# Parameters for clustering\n",
    "from sklearn.preprocessing import normalize\n",
    "from sklearn.metrics.pairwise import cosine_similarity, euclidean_distances\n",
    "\n",
    "norm = False\n",
    "method = 'single'\n",
    "metric = 'cosine'\n",
    "criterion = 'distance'"
   ]
  },
  {
   "cell_type": "code",
   "execution_count": 49,
   "metadata": {},
   "outputs": [],
   "source": [
    "# Save descriptors data and names\n",
    "from sklearn.preprocessing import StandardScaler\n",
    "from sklearn.metrics import precision_recall_fscore_support, homogeneity_score, v_measure_score\n",
    "from sklearn.metrics.cluster import adjusted_rand_score\n",
    "from sklearn.cluster import AgglomerativeClustering\n",
    "from scipy.cluster.vq import whiten\n",
    "import tqdm\n",
    "import sys\n",
    "np.set_printoptions(threshold=sys.maxsize)\n",
    "\n",
    "#['UVES_BLUE_BIAS(0)',\n",
    "#'UVES_RED_BIAS(1,2)',\n",
    "#'UVES_BLUE_WAVE(1,2)',\n",
    "#'UVES_DIC1B_FLAT(0)',\n",
    "#'UVES_DIC1B_DFLAT(0)',\n",
    "#'UVES_RED_WAVE(1,2)',\n",
    "#'UVES_DIC1R_FLAT(1,2)']\n",
    "\n",
    "UBB0    = cube_good[ 0,:,:]\n",
    "URB1    = cube_good[ 1,:,:]\n",
    "URB2    = cube_good[ 2,:,:]\n",
    "UBW1    = cube_good[ 3,:,:]\n",
    "UBW2    = cube_good[ 4,:,:]\n",
    "UD1BF0  = cube_good[ 5,:,:]\n",
    "UD1BDF0 = cube_good[ 6,:,:]\n",
    "URW1    = cube_good[ 7,:,:]\n",
    "URW2    = cube_good[ 8,:,:]\n",
    "UD1RF1  = cube_good[ 9,:,:]\n",
    "UD1RF2  = cube_good[10,:,:]\n",
    "\n",
    "UBB0name    = desc_name[ 0]\n",
    "URB1name    = desc_name[ 1]\n",
    "URB2name    = desc_name[ 2]\n",
    "UBW1name    = desc_name[ 3]\n",
    "UBW2name    = desc_name[ 4]\n",
    "UD1BF0name  = desc_name[ 5]\n",
    "UD1BDF0name = desc_name[ 6]\n",
    "URW1name    = desc_name[ 7]\n",
    "URW2name    = desc_name[ 8]\n",
    "UD1RF1name  = desc_name[ 9]\n",
    "UD1RF2name  = desc_name[10]\n",
    "\n",
    "#'UBB0','URB1','URB2','UBW1','UBW2','UD1BF0','UD1BDF0','URW1','URW2','UD1RF1','UD1RF2'\n",
    "im_labels = ['UBB0','URB1','URB2','UBW1','UBW2','UD1BF0','UD1BDF0','URW1','URW2','UD1RF1','UD1RF2']\n",
    "desc_mat  = np.vstack((UBB0,URB1,URB2,UBW1,UBW2,UD1BF0,UD1BDF0,URW1,URW2,UD1RF1,UD1RF2))\n",
    "if norm==True:\n",
    "    desc_mat = whiten(desc_mat)\n",
    "    \n",
    "names = UBB0name\n",
    "names.extend(URB1name)\n",
    "names.extend(URB2name)\n",
    "names.extend(UBW1name)\n",
    "names.extend(UBW2name)\n",
    "names.extend(UD1BF0name)\n",
    "names.extend(UD1BDF0name)\n",
    "names.extend(URW1name)\n",
    "names.extend(URW2name)\n",
    "names.extend(UD1RF1name)\n",
    "names.extend(UD1RF2name)"
   ]
  },
  {
   "cell_type": "code",
   "execution_count": 50,
   "metadata": {},
   "outputs": [
    {
     "data": {
      "application/vnd.jupyter.widget-view+json": {
       "model_id": "b8cf5a3a7fc348d2a2cf9ebb4fd11be2",
       "version_major": 2,
       "version_minor": 0
      },
      "text/plain": [
       "HBox(children=(IntProgress(value=0, max=44), HTML(value='')))"
      ]
     },
     "metadata": {},
     "output_type": "display_data"
    },
    {
     "name": "stdout",
     "output_type": "stream",
     "text": [
      "\n"
     ]
    },
    {
     "data": {
      "image/png": "[encoded data removed]",
      "text/plain": [
       "<Figure size 432x288 with 1 Axes>"
      ]
     },
     "metadata": {
      "needs_background": "light"
     },
     "output_type": "display_data"
    },
    {
     "name": "stdout",
     "output_type": "stream",
     "text": [
      "N-clusters:    49\n",
      "A-R-score : 0.87304\n",
      "Homo-score: 0.99713\n",
      "V-M-score : 0.91214\n"
     ]
    }
   ],
   "source": [
    "# Look for optimal number of cluster to identify the image types\n",
    "clt_temp = []\n",
    "clt_true = []\n",
    "len_list = [UD1RF2.shape[0],UD1BDF0.shape[0],URB2.shape[0],URW1.shape[0],URW2.shape[0],UD1RF2.shape[0],UD1BDF0.shape[0],URB2.shape[0],URW1.shape[0],URW2.shape[0],URW2.shape[0]]\n",
    "nclt_true = len(len_list)\n",
    "\n",
    "for ind, ndim in enumerate(len_list):\n",
    "    clt_temp = ind*np.ones(ndim)\n",
    "    clt_true = np.concatenate((clt_true,clt_temp))\n",
    "\n",
    "nclti = len(len_list)\n",
    "nclte = 5*nclti\n",
    "nclt_list = list(np.arange(nclti,nclte))\n",
    "score = []\n",
    "hscore = []\n",
    "vscore = []\n",
    "nclusters = []\n",
    "\n",
    "with tqdm.tqdm_notebook(total=len(nclt_list)) as pbar:    \n",
    "    for nclt in nclt_list:\n",
    "        model = AgglomerativeClustering(n_clusters=nclt, \n",
    "                                          affinity=metric, \n",
    "                                          linkage=method,\n",
    "                                          distance_threshold=None, \n",
    "                                          compute_full_tree=False)\n",
    "        clusters = model.fit(desc_mat)\n",
    "        clt_pred = clusters.labels_\n",
    "\n",
    "        rand_score = adjusted_rand_score(clt_true,clt_pred)\n",
    "        homo_score = homogeneity_score(clt_true,clt_pred)\n",
    "        vmes_score = v_measure_score(clt_true,clt_pred)\n",
    "        \n",
    "        nclusters.append(nclt)\n",
    "        score.append(rand_score)\n",
    "        hscore.append(homo_score)\n",
    "        vscore.append(vmes_score)\n",
    "        pbar.update(1)\n",
    "\n",
    "x = nclusters\n",
    "y = score\n",
    "z = hscore\n",
    "k = vscore\n",
    "plt.scatter(x, y, c='blue', s=20, alpha=0.8, edgecolors='none', label='Random Score')\n",
    "plt.scatter(x, z, c='red', s=20, alpha=0.8, edgecolors='none', label='Homogeneity Score')\n",
    "plt.scatter(x, k, c='green', s=20, alpha=0.8, edgecolors='none', label='V-Messure Score')\n",
    "plt.legend()\n",
    "plt.title('Statistic for images', fontsize=14)\n",
    "plt.xlabel('# clusters', fontsize=14)\n",
    "plt.ylabel('Values', fontsize=14)\n",
    "plt.xlim((nclti,nclte))\n",
    "plt.tight_layout()\n",
    "plt.grid()\n",
    "plt.show()\n",
    "\n",
    "max_score = max(score)\n",
    "ind_list = [i for i, j in enumerate(score) if j == max_score]\n",
    "ind = ind_list[0]\n",
    "max_clt = nclusters[ind]\n",
    "max_hscore = hscore[ind]\n",
    "max_vscore = vscore[ind]\n",
    "ncltc = max_clt\n",
    "\n",
    "print('N-clusters: %5i' % max_clt)\n",
    "print('A-R-score : %.5f' % max_score)\n",
    "print('Homo-score: %.5f' % max_hscore)\n",
    "print('V-M-score : %.5f' % max_vscore)"
   ]
  },
  {
   "cell_type": "code",
   "execution_count": 59,
   "metadata": {},
   "outputs": [
    {
     "name": "stdout",
     "output_type": "stream",
     "text": [
      "N-clusters:    49\n",
      "Precision : 0.94218\n",
      "Recall    : 0.87091\n",
      "F1 score  : 0.88832\n"
     ]
    },
    {
     "data": {
      "text/plain": [
       "<Figure size 432x288 with 0 Axes>"
      ]
     },
     "metadata": {},
     "output_type": "display_data"
    },
    {
     "data": {
      "image/png": "[encoded data removed]",
      "text/plain": [
       "<Figure size 864x360 with 1 Axes>"
      ]
     },
     "metadata": {
      "needs_background": "light"
     },
     "output_type": "display_data"
    }
   ],
   "source": [
    "# Visualize the image identification\n",
    "from scipy import stats\n",
    "show_cluster = False\n",
    "\n",
    "model = AgglomerativeClustering(n_clusters=ncltc, \n",
    "                                  affinity=metric, \n",
    "                                  linkage=method,\n",
    "                                  distance_threshold=None, \n",
    "                                  compute_full_tree=False)\n",
    "#desc_mat_std = scaler.fit(desc_mat)\n",
    "clusters = model.fit(desc_mat)\n",
    "clt_pred = clusters.labels_\n",
    "\n",
    "unord_clt = []\n",
    "new_clt_pred = clt_pred\n",
    "\n",
    "for ind, ndim in enumerate(len_list):\n",
    "    istart    = sum(len_list[:ind])\n",
    "    ifinish   = sum(len_list[:ind+1])\n",
    "    lst_clt   = list(new_clt_pred[istart:ifinish])\n",
    "    lst_clt_b = list(new_clt_pred[:istart])\n",
    "    lst_clt_f = list(new_clt_pred[ifinish:])\n",
    "    arr_clt   = np.array(lst_clt)\n",
    "    mode      = stats.mode(arr_clt).mode[0]\n",
    "    lst_clt   = [ind if c==mode else c for c in lst_clt]\n",
    "    lst_clt_f = [ind if c==mode else c for c in lst_clt_f]\n",
    "    new_clt_pred = lst_clt_b + lst_clt + lst_clt_f\n",
    "    \n",
    "if show_cluster==True:\n",
    "    print('Cluster true:\\n',clt_true)    \n",
    "    print('Cluster predicted:\\n',new_clt_pred)\n",
    "\n",
    "lab_tup = tuple(im_labels+list(np.arange(len(len_list),ncltc)))\n",
    "\n",
    "plt.clf()\n",
    "fig = plt.figure(figsize=(12,5))\n",
    "_, bins, _ = plt.hist(new_clt_pred, bins=ncltc, alpha=0.5, rwidth=0.80, align='left', label='Predicted')\n",
    "_ = plt.hist(clt_true, bins=bins, alpha=0.5, rwidth=0.80, align='left', label='True')\n",
    "plt.legend()\n",
    "plt.title('Number of observations per cluster')\n",
    "plt.ylabel('# per cluster')\n",
    "plt.xlabel('cluster')\n",
    "plt.yscale('log')\n",
    "plt.xticks(np.arange(ncltc),lab_tup,rotation='vertical',fontsize=10)\n",
    "plt.grid()\n",
    "fig.show()\n",
    "\n",
    "PRF = precision_recall_fscore_support(clt_true, new_clt_pred, average='weighted')\n",
    "precision = PRF[0]\n",
    "recall = PRF[1]\n",
    "fscore = PRF[2]\n",
    "\n",
    "print('N-clusters: %5i' % ncltc)\n",
    "print('Precision : %.5f' % precision)\n",
    "print('Recall    : %.5f' % recall)\n",
    "print('F1 score  : %.5f' % fscore)"
   ]
  },
  {
   "cell_type": "code",
   "execution_count": null,
   "metadata": {},
   "outputs": [],
   "source": []
  }
 ],
 "metadata": {
  "kernelspec": {
   "display_name": "PoC ESO",
   "language": "python",
   "name": "eso"
  },
  "language_info": {
   "codemirror_mode": {
    "name": "ipython",
    "version": 3
   },
   "file_extension": ".py",
   "mimetype": "text/x-python",
   "name": "python",
   "nbconvert_exporter": "python",
   "pygments_lexer": "ipython3",
   "version": "3.6.8"
  }
 },
 "nbformat": 4,
 "nbformat_minor": 4
}
