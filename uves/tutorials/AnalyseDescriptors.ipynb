{
 "cells": [
  {
   "cell_type": "code",
   "execution_count": 18,
   "metadata": {},
   "outputs": [],
   "source": [
    "# This notebook read the resnet50 descriptors (in CHECKPOINT_DIR) generated \n",
    "# by MakeDescriptors to be analysed\n",
    "import os\n",
    "import PIL\n",
    "import cv2\n",
    "import glob\n",
    "import pickle\n",
    "import numpy as np\n",
    "import pandas as pd\n",
    "import matplotlib.pyplot as plt\n",
    "import seaborn as sns\n",
    "import random\n",
    "\n",
    "from collections import OrderedDict\n",
    "from sklearn.metrics.pairwise import cosine_similarity\n",
    "from tqdm import tqdm, tqdm_notebook\n",
    "from PIL import Image\n",
    "from scipy import sparse\n",
    "from astropy.io import fits\n",
    "\n",
    "%matplotlib inline"
   ]
  },
  {
   "cell_type": "code",
   "execution_count": 19,
   "metadata": {},
   "outputs": [],
   "source": [
    "# Paths\n",
    "PROJECT_DIR = \"/data/notebooks/uves_jprieto/Tutorial\"\n",
    "# Model checkpoints\n",
    "CHECKPOINT_DIR = os.path.join(PROJECT_DIR, \"checkpoint\")"
   ]
  },
  {
   "cell_type": "code",
   "execution_count": 20,
   "metadata": {},
   "outputs": [
    {
     "name": "stdout",
     "output_type": "stream",
     "text": [
      "Folder UVES_RED_BIAS contains 97 .fits files.\n",
      "Selecting 10 files.\n"
     ]
    },
    {
     "data": {
      "text/plain": [
       "['../data/fits_for_test/UVES_RED_BIAS/UVES_RED_BIAS050_0005.fits',\n",
       " '../data/fits_for_test/UVES_RED_BIAS/UVES_RED_BIAS245_0001.fits',\n",
       " '../data/fits_for_test/UVES_RED_BIAS/UVES_RED_BIAS285_0001.fits',\n",
       " '../data/fits_for_test/UVES_RED_BIAS/UVES_RED_BIAS202_0002.fits',\n",
       " '../data/fits_for_test/UVES_RED_BIAS/UVES_RED_BIAS275_0001.fits',\n",
       " '../data/fits_for_test/UVES_RED_BIAS/UVES_RED_BIAS147_0004.fits',\n",
       " '../data/fits_for_test/UVES_RED_BIAS/UVES_RED_BIAS243_0005.fits',\n",
       " '../data/fits_for_test/UVES_RED_BIAS/UVES_RED_BIAS087_0003.fits',\n",
       " '../data/fits_for_test/UVES_RED_BIAS/UVES_RED_BIAS248_0002.fits',\n",
       " '../data/fits_for_test/UVES_RED_BIAS/UVES_RED_BIAS235_0004.fits']"
      ]
     },
     "execution_count": 20,
     "metadata": {},
     "output_type": "execute_result"
    }
   ],
   "source": [
    "# Number of processed images\n",
    "n_files = 10\n",
    "# List of fits images to process\n",
    "# * bias_red:\n",
    "#   - UVES_RED_BIAS (ext: 1,2)\n",
    "# * bias_blue:\n",
    "#   - UVES_BLUE_BIAS (ext: 0)\n",
    "# * blue_arc_flat:\n",
    "#   - UVES_BLUE_WAVE (ext: 1,2)\n",
    "#   - UVES_DIC1B_FLAT (ext: 0)\n",
    "#   - UVES_DIC1B_DFLAT (ext: 0)\n",
    "# * red_arc_flat:\n",
    "#   - UVES_RED_WAVE (ext: 1,2)\n",
    "#   - UVES_DIC1R_FLAT (ext: 1,2)\n",
    "fits_folder = 'UVES_RED_BIAS'\n",
    "ext = 1\n",
    "fits_data_dir = '../data/fits_for_test'\n",
    "fits_data_dir = os.path.join(fits_data_dir,fits_folder)\n",
    "fits_files = [os.path.join(fits_data_dir,s) for s in os.listdir(fits_data_dir)]\n",
    "# Number of images to process\n",
    "n_files = 10\n",
    "#n_files = len(fits_files)\n",
    "print('Folder '+ fits_folder +' contains '+ str(len(fits_files)) + ' .fits files.')\n",
    "print('Selecting ' + str(n_files) + ' files.')\n",
    "\n",
    "# Dor random selection\n",
    "#IMG_DIRECTORY_LIST = random.sample(fits_files, n_files)\n",
    "#IMG_DIRECTORY_LIST[0:n_files]\n",
    "\n",
    "IMG_DIRECTORY_LIST = fits_files[0:n_files]\n",
    "IMG_DIRECTORY_LIST"
   ]
  },
  {
   "cell_type": "code",
   "execution_count": 21,
   "metadata": {},
   "outputs": [
    {
     "data": {
      "text/plain": [
       "(10, 2048)"
      ]
     },
     "execution_count": 21,
     "metadata": {},
     "output_type": "execute_result"
    }
   ],
   "source": [
    "descriptor_file = os.path.join(CHECKPOINT_DIR,'full_unflat_desc_'+str(fits_folder)+'_ext'+str(ext)+'_resNet50_N'+str(n_files)+'.npy')\n",
    "descs_resNet50 = np.load(descriptor_file)\n",
    "np_descs = np.array(descs_resNet50)\n",
    "np_descs.shape"
   ]
  },
  {
   "cell_type": "code",
   "execution_count": 22,
   "metadata": {},
   "outputs": [],
   "source": [
    "def flatten_descs(descs, IMG_DIRECTORY_LIST):\n",
    "    np_descs = descs\n",
    "    flat_descs = []\n",
    "    names = []\n",
    "    for row_idx in range(np_descs.shape[0]):\n",
    "        row = np_descs[row_idx]\n",
    "        n_row = row.flatten()\n",
    "        flat_descs.append(n_row)\n",
    "        names.append(IMG_DIRECTORY_LIST[row_idx])\n",
    "        \n",
    "    return np.array(flat_descs), np.array(names)"
   ]
  },
  {
   "cell_type": "code",
   "execution_count": 23,
   "metadata": {},
   "outputs": [
    {
     "name": "stdout",
     "output_type": "stream",
     "text": [
      "Corrupted images index:  (array([], dtype=int64),)\n"
     ]
    }
   ],
   "source": [
    "# For performance, we sparsify matrix\n",
    "flat_descs, names = flatten_descs(descs_resNet50, IMG_DIRECTORY_LIST)  # (n_imgs, (4032, img_name))\n",
    "\n",
    "corrupted_idx=np.where(np.isnan(np.sum(flat_descs, axis=1)))\n",
    "print(\"Corrupted images index: \", corrupted_idx)\n",
    "for idx in corrupted_idx:\n",
    "    flat_descs[idx,:]=0.\n",
    "\n",
    "d_sparse = sparse.csr_matrix(flat_descs)"
   ]
  },
  {
   "cell_type": "code",
   "execution_count": 25,
   "metadata": {},
   "outputs": [
    {
     "name": "stdout",
     "output_type": "stream",
     "text": [
      "Flat descriptors shape:  (10, 2048)\n"
     ]
    }
   ],
   "source": [
    "print('Flat descriptors shape: ',flat_descs.shape)"
   ]
  },
  {
   "cell_type": "code",
   "execution_count": 26,
   "metadata": {},
   "outputs": [
    {
     "name": "stderr",
     "output_type": "stream",
     "text": [
      "2000it [00:00, 514007.84it/s]         \n"
     ]
    }
   ],
   "source": [
    "# In order to study the \"distance\" between different vectors in a given set it is usefuel to creat a similarity \n",
    "# matrix with a given metric relating vector \"i\" with vector \"j\". In this case we show an example for \n",
    "# the cosine-similarity matrix, which shows the cosine of the angle between vectors in the hyper-space\n",
    "# In this case the vectors are the 2048-dimension descriptors from the resnet50\n",
    "\n",
    "# Compute all-vs-all cosine similarity (should be query-vs-all at test-time, extra param in c_s(X, Y))\n",
    "batch_size=2000\n",
    "if True:\n",
    "    with tqdm(total=d_sparse.shape[0]) as pbar:\n",
    "        # All descriptors do not fit at once. We compute and save in segments\n",
    "        for i in range(0, d_sparse.shape[0], 2000):\n",
    "            try:\n",
    "                sims = cosine_similarity(d_sparse, d_sparse[i:i+2000])\n",
    "            except:\n",
    "                sims = cosine_similarity(d_sparse, d_sparse[i:])\n",
    "            np.save(os.path.join(CHECKPOINT_DIR, 'similarities_part_{}'.format(i//2000)), sims)\n",
    "            pbar.update(2000)"
   ]
  },
  {
   "cell_type": "code",
   "execution_count": 27,
   "metadata": {},
   "outputs": [],
   "source": [
    "# Integrate similarity segments in one big tensor, on memory, from saved np files\n",
    "all_sims = None  # shape (n_imgs, n_imgs)\n",
    "for i in range(0, d_sparse.shape[0], batch_size):\n",
    "    try:\n",
    "        all_sims[0]\n",
    "        all_sims = np.hstack((all_sims, np.load(os.path.join(CHECKPOINT_DIR, 'similarities_part_{}.npy'.format(i//batch_size)))))\n",
    "    except:\n",
    "        all_sims = np.load(os.path.join(CHECKPOINT_DIR, 'similarities_part_{}.npy'.format(i//batch_size)))"
   ]
  },
  {
   "cell_type": "code",
   "execution_count": 28,
   "metadata": {},
   "outputs": [],
   "source": [
    "# Save the first time\n",
    "if True:\n",
    "    np.save(os.path.join(CHECKPOINT_DIR, 'full_descriptors_'+str(fits_folder)+'_ext'+str(ext)+'_resNet50_N'+str(n_files)), flat_descs)\n",
    "    np.save(os.path.join(CHECKPOINT_DIR, 'paths'), names)"
   ]
  },
  {
   "cell_type": "code",
   "execution_count": 32,
   "metadata": {},
   "outputs": [
    {
     "name": "stdout",
     "output_type": "stream",
     "text": [
      "Shape:\t\t\t(10, 10)\n",
      "Mean distance:\t\t0.9431181047664411\n",
      "Mean distance:\t\t0.058584758982620604\n",
      "\n",
      "Pairwise dense output:\n",
      "\n",
      "[[1.         0.96801529 0.88319068 0.94648037 0.99566684 0.982892\n",
      "  0.99321933 0.90491933 0.91950083 0.99810949]\n",
      " [0.96801529 1.         0.78605302 0.86149322 0.94980486 0.99524144\n",
      "  0.93889303 0.80992773 0.82668632 0.96777027]\n",
      " [0.88319068 0.78605302 1.         0.98225021 0.90399851 0.81592467\n",
      "  0.91913921 0.99737387 0.99399721 0.88221453]\n",
      " [0.94648037 0.86149322 0.98225021 1.         0.96250105 0.88996673\n",
      "  0.97250054 0.99111923 0.99605546 0.94610261]\n",
      " [0.99566684 0.94980486 0.90399851 0.96250105 1.         0.97116722\n",
      "  0.9980637  0.92434351 0.93833591 0.99741517]\n",
      " [0.982892   0.99524144 0.81592467 0.88996673 0.97116722 1.\n",
      "  0.96101901 0.83986191 0.85671732 0.98472135]\n",
      " [0.99321933 0.93889303 0.91913921 0.97250054 0.9980637  0.96101901\n",
      "  1.         0.93859684 0.95078786 0.99285415]\n",
      " [0.90491933 0.80992773 0.99737387 0.99111923 0.92434351 0.83986191\n",
      "  0.93859684 1.         0.99844019 0.90368981]\n",
      " [0.91950083 0.82668632 0.99399721 0.99605546 0.93833591 0.85671732\n",
      "  0.95078786 0.99844019 1.         0.91888338]\n",
      " [0.99810949 0.96777027 0.88221453 0.94610261 0.99741517 0.98472135\n",
      "  0.99285415 0.90368981 0.91888338 1.        ]]\n",
      "\n"
     ]
    }
   ],
   "source": [
    "similarities= all_sims\n",
    "\n",
    "#np.fill_diagonal(similarities, np.nan)\n",
    "#np.fill_diagonal(similarities, 1.0)\n",
    "for idx in corrupted_idx:\n",
    "    similarities[idx,:]=np.nan\n",
    "    similarities[:,idx]=np.nan\n",
    "\n",
    "print(\"Shape:\\t\\t\\t{}\".format(similarities.shape))\n",
    "print('Mean distance:\\t\\t{}'.format(np.nanmean(similarities)))\n",
    "print('Distance StD:\\t\\t{}'.format(np.nanstd(similarities)))\n",
    "print('\\nPairwise dense output:\\n\\n{}\\n'.format(similarities))"
   ]
  },
  {
   "cell_type": "code",
   "execution_count": 37,
   "metadata": {},
   "outputs": [
    {
     "data": {
      "text/plain": [
       "<matplotlib.axes._subplots.AxesSubplot at 0x7f3291e7d2e8>"
      ]
     },
     "execution_count": 37,
     "metadata": {},
     "output_type": "execute_result"
    },
    {
     "data": {
      "image/png": "[encoded data removed]",
      "text/plain": [
       "<Figure size 792x576 with 2 Axes>"
      ]
     },
     "metadata": {
      "needs_background": "light"
     },
     "output_type": "display_data"
    }
   ],
   "source": [
    "mean_sim = np.nanmean(similarities)\n",
    "std_sim = np.nanstd(similarities)\n",
    "fig, ax = plt.subplots(figsize=(11,8))\n",
    "sns.heatmap(similarities, cmap=\"YlGnBu\", vmin=mean_sim-5.0*std_sim, vmax=1.0)"
   ]
  },
  {
   "cell_type": "code",
   "execution_count": null,
   "metadata": {},
   "outputs": [],
   "source": []
  }
 ],
 "metadata": {
  "kernelspec": {
   "display_name": "PoC ESO",
   "language": "python",
   "name": "eso"
  },
  "language_info": {
   "codemirror_mode": {
    "name": "ipython",
    "version": 3
   },
   "file_extension": ".py",
   "mimetype": "text/x-python",
   "name": "python",
   "nbconvert_exporter": "python",
   "pygments_lexer": "ipython3",
   "version": "3.6.8"
  }
 },
 "nbformat": 4,
 "nbformat_minor": 2
}
