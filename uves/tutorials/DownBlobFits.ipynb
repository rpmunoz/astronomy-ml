{
 "cells": [
  {
   "cell_type": "code",
   "execution_count": 3,
   "metadata": {},
   "outputs": [],
   "source": [
    "'''\n",
    "------------------------------------------------------------------------------\n",
    " This script download the fits to be used in the tutoial.\n",
    " It needs account information:\n",
    "   - Account name.\n",
    "   - Account key.\n",
    " It needs the blob container information\n",
    "   - Container name\n",
    "   - Container sub-directory\n",
    "------------------------------------------------------------------------------\n",
    "'''\n",
    "import os, uuid, sys\n",
    "import subprocess\n",
    "import tqdm\n",
    "import astropy\n",
    "import numpy as np\n",
    "import pandas as pd\n",
    "import matplotlib.pyplot as plt\n",
    "import multiprocessing\n",
    "import pyarrow as pa\n",
    "import pyarrow.parquet as pq\n",
    "import random\n",
    "\n",
    "from io import BytesIO\n",
    "from astropy.io import fits\n",
    "from functools import partial\n",
    "from azure.storage.blob import BlockBlobService, PublicAccess\n",
    "sys.path.append('./')"
   ]
  },
  {
   "cell_type": "code",
   "execution_count": 4,
   "metadata": {},
   "outputs": [
    {
     "data": {
      "text/plain": [
       "<azure.storage.blob.models.ResourceProperties at 0x7f11eefcada0>"
      ]
     },
     "execution_count": 4,
     "metadata": {},
     "output_type": "execute_result"
    }
   ],
   "source": [
    "#!pip install azure-storage-blob\n",
    "# Create the BlockBlockService that is used to call the Blob service \n",
    "# for the storage account\n",
    "import config_blob_keys as cfg\n",
    "\n",
    "account_name = cfg.AccountName\n",
    "account_key = cfg.AccountKey\n",
    "block_blob_service = BlockBlobService(account_name=account_name, account_key=account_key)\n",
    "\n",
    "cont_name_unc = cfg.ContNameUnC\n",
    "block_blob_service.set_container_acl(cont_name_unc, public_access=PublicAccess.Container)"
   ]
  },
  {
   "cell_type": "code",
   "execution_count": 26,
   "metadata": {},
   "outputs": [],
   "source": [
    "# Functions to move files in azure cloud\n",
    "\n",
    "# Create a list \"filelist\" with the blob content\n",
    "# inside the \"Azure:container/folder\" location \n",
    "def BlobList(container, folder, filelist, verbose=False):\n",
    "    \n",
    "    gen = block_blob_service.list_blobs(container, prefix=folder)\n",
    "    \n",
    "    for blob in gen:\n",
    "        file = str(blob.name).replace(folder,'')\n",
    "        filelist.append(file)\n",
    "        if verbose == True:\n",
    "            print(\"\\t Blob name: \" + blob.name)\n",
    "        \n",
    "    return filelist\n",
    "\n",
    "# Download a file \"blobfile\" from \"container\" and save it \n",
    "# in the file \"locfile\"\n",
    "def DownBlob(container, blobfile, locfile, verbose=False):\n",
    "    \n",
    "    if verbose == True:\n",
    "        print('Downloading ' + blobfile + ' to ' + locfile)\n",
    "    \n",
    "    block_blob_service.get_blob_to_path(container, blobfile, locfile)\n",
    "\n",
    "# Uncompress data \n",
    "def UnCompress(file, verbose=False):\n",
    "    \n",
    "    if verbose == True:\n",
    "        print('Uncompressing ' + file)\n",
    "    \n",
    "    subprocess.call(['uncompress', file])\n",
    "    #os.popen('uncompress ' + file)\n",
    "\n",
    "# Upload file \"locfile\" to the blob \"blobfile\" in container\n",
    "def UpBlob(container, blobfile, locfile, verbose=False):\n",
    "    \n",
    "    if verbose == True:\n",
    "        print('Uploading ' + locfile + ' to ' + blobfile)\n",
    "        \n",
    "    block_blob_service.create_blob_from_path(container, blobfile, locfile, validate_content=True)\n",
    "\n",
    "# Select the .fits based on its original name to be saved in the local folder\n",
    "def SelectFits(path_loc, unc_blob_sub_dir, npy_blob_sub_dir, file, verbose=False):       \n",
    "    # Download the data from uncompressed\n",
    "    unc_blob_name = os.path.join(unc_blob_sub_dir,file)\n",
    "    path_to_file_loc = os.path.join(path_loc, file)\n",
    "\n",
    "    DownBlob(cont_name_unc, unc_blob_name, path_to_file_loc, False)\n",
    "    \n",
    "    while not os.path.exists(path_to_file_loc):\n",
    "        time.sleep(0.1)\n",
    "    \n",
    "    # Ask for the file name\n",
    "    hdu_list = fits.open(path_to_file_loc)\n",
    "    orig_file_name = hdu_list[0].header['ORIGFILE']\n",
    "\n",
    "    if verbose == True:\n",
    "        print('File name = ' + orig_file_name)    \n",
    "        \n",
    "    npy_folder = ''.join([npy_blob_sub_dir[i] for i in range(len(npy_blob_sub_dir)) if npy_blob_sub_dir[i] in orig_file_name])\n",
    "    new_path_to_loc_file = path_loc + '/' + npy_folder + '/' + orig_file_name\n",
    "   \n",
    "    os.rename(path_to_file_loc, new_path_to_loc_file)"
   ]
  },
  {
   "cell_type": "code",
   "execution_count": 27,
   "metadata": {},
   "outputs": [
    {
     "name": "stdout",
     "output_type": "stream",
     "text": [
      "Working on bias_blue...\n"
     ]
    },
    {
     "name": "stderr",
     "output_type": "stream",
     "text": [
      "100%|██████████| 100/100 [00:23<00:00,  4.34it/s]\n"
     ]
    },
    {
     "name": "stdout",
     "output_type": "stream",
     "text": [
      "Working on bias_red...\n"
     ]
    },
    {
     "name": "stderr",
     "output_type": "stream",
     "text": [
      "100%|██████████| 100/100 [00:55<00:00,  1.92it/s]\n"
     ]
    },
    {
     "name": "stdout",
     "output_type": "stream",
     "text": [
      "Working on blue_arc_flat...\n"
     ]
    },
    {
     "name": "stderr",
     "output_type": "stream",
     "text": [
      "100%|██████████| 100/100 [00:26<00:00,  4.18it/s]\n"
     ]
    },
    {
     "name": "stdout",
     "output_type": "stream",
     "text": [
      "Working on red_arc_flat...\n"
     ]
    },
    {
     "name": "stderr",
     "output_type": "stream",
     "text": [
      "100%|██████████| 100/100 [01:04<00:00,  1.55it/s]\n"
     ]
    }
   ],
   "source": [
    "# Download the images to ../data/fits_for_test/UVES_*\n",
    "\n",
    "uncBlobSubDirs = ['bias_blue', 'bias_red', 'blue_arc_flat','red_arc_flat']\n",
    "#Test\n",
    "#uncBlobSubDirs = ['blue_arc_flat']\n",
    "path_loc = './fits_for_test'\n",
    "\n",
    "# loop for uncompressed folders\n",
    "for unc_blob_sub_dir in uncBlobSubDirs:\n",
    "    \n",
    "    # Define the local UVES folders based on the type of images\n",
    "    if unc_blob_sub_dir == 'bias_blue':\n",
    "        npy_blob_sub_dir = ['UVES_BLUE_BIAS']\n",
    "    elif unc_blob_sub_dir == 'bias_red':\n",
    "        npy_blob_sub_dir = ['UVES_RED_BIAS']\n",
    "    elif unc_blob_sub_dir == 'blue_arc_flat':\n",
    "        npy_blob_sub_dir = ['UVES_BLUE_WAVE','UVES_DIC1B_FLAT','UVES_DIC1B_DFLAT']\n",
    "    elif unc_blob_sub_dir == 'red_arc_flat':\n",
    "        npy_blob_sub_dir = ['UVES_RED_WAVE','UVES_DIC1R_FLAT']\n",
    "    \n",
    "    # List the uncompressed data\n",
    "    unc_files_list = []\n",
    "    unc_folder_rem = unc_blob_sub_dir + '/'\n",
    "\n",
    "    BlobList(cont_name_unc, unc_folder_rem, unc_files_list)\n",
    "\n",
    "    random.shuffle(unc_files_list)\n",
    "    \n",
    "    unc_files_list= unc_files_list[0:100]\n",
    "\n",
    "    print('Working on ' + unc_blob_sub_dir + '...')\n",
    "\n",
    "    tasks = partial(SelectFits, path_loc, unc_blob_sub_dir, npy_blob_sub_dir)\n",
    "    with multiprocessing.Pool(1) as p:\n",
    "        result = list(tqdm.tqdm(p.imap(tasks, unc_files_list), total=len(unc_files_list)))"
   ]
  },
  {
   "cell_type": "code",
   "execution_count": null,
   "metadata": {},
   "outputs": [],
   "source": []
  }
 ],
 "metadata": {
  "kernelspec": {
   "display_name": "PoC ESO",
   "language": "python",
   "name": "eso"
  },
  "language_info": {
   "codemirror_mode": {
    "name": "ipython",
    "version": 3
   },
   "file_extension": ".py",
   "mimetype": "text/x-python",
   "name": "python",
   "nbconvert_exporter": "python",
   "pygments_lexer": "ipython3",
   "version": "3.6.8"
  }
 },
 "nbformat": 4,
 "nbformat_minor": 4
}
