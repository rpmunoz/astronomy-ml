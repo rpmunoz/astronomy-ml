{
 "cells": [
  {
   "cell_type": "code",
   "execution_count": 11,
   "metadata": {},
   "outputs": [],
   "source": [
    "# This notebook marks an image as bad image if it has a descriptor\n",
    "# far from the good images descriptors given a metric and a clustering \n",
    "# linkage method. By default it use metric=cosine and method=single\n",
    "from azure.storage.blob import BlockBlobService, PublicAccess\n",
    "import sys\n",
    "sys.path.append('./')\n",
    "#!pip install import-ipynb"
   ]
  },
  {
   "cell_type": "code",
   "execution_count": 12,
   "metadata": {},
   "outputs": [
    {
     "data": {
      "text/plain": [
       "<azure.storage.blob.models.ResourceProperties at 0x7fa3a885d2b0>"
      ]
     },
     "execution_count": 12,
     "metadata": {},
     "output_type": "execute_result"
    }
   ],
   "source": [
    "# Take credential and access to azure blob storage\n",
    "import config_blob_keys as cfg\n",
    "\n",
    "account_name = cfg.AccountName\n",
    "account_key = cfg.AccountKey\n",
    "\n",
    "block_blob_service = BlockBlobService(account_name=account_name, account_key=account_key)\n",
    "\n",
    "cont_name_analysis = cfg.ContNameAnalysis\n",
    "block_blob_service.set_container_acl(cont_name_analysis, public_access=PublicAccess.Container)\n",
    "\n",
    "cont_name_desc = cfg.ContNameDesc\n",
    "block_blob_service.set_container_acl(cont_name_desc, public_access=PublicAccess.Container)\n",
    "\n",
    "cont_name_desc_cor = cfg.ContNameDescCor\n",
    "block_blob_service.set_container_acl(cont_name_desc_cor, public_access=PublicAccess.Container)"
   ]
  },
  {
   "cell_type": "code",
   "execution_count": 13,
   "metadata": {},
   "outputs": [],
   "source": [
    "# Functions to work with azure blobs\n",
    "def BlobList(container, folder, filelist, verbose=False):\n",
    "    \n",
    "    gen = block_blob_service.list_blobs(container, prefix=folder)\n",
    "    \n",
    "    for blob in gen:\n",
    "        file = str(blob.name).replace(folder,'')\n",
    "        filelist.append(file)\n",
    "        if verbose == True:\n",
    "            print(\"\\t Blob name: \" + blob.name)\n",
    "        \n",
    "    return filelist\n",
    "\n",
    "# Download a file \"blobfile\" from \"container\" and save it \n",
    "# in the file \"locfile\"\n",
    "def DownBlob(container, blobfile, locfile, verbose=False):\n",
    "    \n",
    "    if verbose == True:\n",
    "        print('Downloading ' + blobfile + ' to ' + locfile)\n",
    "    \n",
    "    block_blob_service.get_blob_to_path(container, blobfile, locfile)\n",
    "\n",
    "    if verbose == True:\n",
    "        print('Downloading ' + blobfile + ' to ' + locfile)\n",
    "    \n",
    "\n",
    "# Uncompress data \n",
    "def UnCompress(file, verbose=False):\n",
    "    \n",
    "    if verbose == True:\n",
    "        print('Uncompressing ' + file)\n",
    "    \n",
    "    subprocess.call(['uncompress', file])\n",
    "    #os.popen('uncompress ' + file)\n",
    "\n",
    "# Upload file \"locfile\" to the blob \"blobfile\" in container\n",
    "def UpBlob(container, blobfile, locfile, verbose=False):\n",
    "    \n",
    "    if verbose == True:\n",
    "        print('Uploading ' + locfile + ' to ' + blobfile)\n",
    "        \n",
    "    block_blob_service.create_blob_from_path(container, blobfile, locfile, validate_content=True)\n"
   ]
  },
  {
   "cell_type": "code",
   "execution_count": 14,
   "metadata": {},
   "outputs": [],
   "source": [
    "# Funtions to visualize images maps and images histograms\n",
    "def DisplayHist(imgood, imbad, verbose=False):\n",
    "\n",
    "    im_data_g = np.load(imgood)\n",
    "    im_mean_g = np.mean(im_data_g)\n",
    "    im_median_g = np.median(im_data_g)\n",
    "    im_std_g = np.std(im_data_g)\n",
    "    \n",
    "    im_data_b = np.load(imbad)\n",
    "    im_mean_b = np.mean(im_data_b)\n",
    "    im_median_b = np.median(im_data_b)\n",
    "    im_std_b = np.std(im_data_b)\n",
    "        \n",
    "    im_median = 0.5*(im_median_g + im_median_b)\n",
    "    im_mean = 0.5*(im_mean_g + im_mean_b)\n",
    "    im_std = 0.5*(im_std_g + im_std_b)\n",
    "    \n",
    "    print(\"DMean: \", (im_mean_g-im_mean_b)/im_mean_g)\n",
    "    print(\"DMedian: \", (im_median_g-im_median_b)/im_median_g)\n",
    "    print(\"DStdDev: \", (im_std_g-im_std_b)/im_std_g)\n",
    "        \n",
    "    nbins = 100\n",
    "    hist, bins, _ = plt.hist(np.ndarray.flatten(im_data_g), bins=nbins)\n",
    "    plt.clf()\n",
    "    #plt.figure(figsize=(10, 5))\n",
    "    logbins = np.logspace(np.log10(bins[0]),np.log10(bins[-1]),len(bins))\n",
    "    fig, ax = plt.subplots(figsize=(8,4))\n",
    "    plt.hist(np.ndarray.flatten(im_data_g), bins=logbins, range=[im_median/2, im_median*5], alpha=0.5, label = 'Good')\n",
    "    plt.hist(np.ndarray.flatten(im_data_b), bins=logbins, range=[im_median/2, im_median*5], alpha=0.5, label = 'Bad')\n",
    "    plt.legend()\n",
    "    plt.title('Histogram')\n",
    "    ax.set_yscale('log')\n",
    "    plt.xscale('log')\n",
    "    plt.xlabel('counts')\n",
    "    plt.ylabel('# counts')\n",
    "    plt.grid()\n",
    "    plt.show()\n",
    "    #fig.savefig(imnameb)\n",
    "    \n",
    "def DisplayMaps(imgood, imbad, verbose=False):\n",
    "    \n",
    "    im_data_g = np.load(imgood)\n",
    "    im_mean_g = np.mean(im_data_g)\n",
    "    im_median_g = np.median(im_data_g)\n",
    "    im_std_g = np.std(im_data_g)\n",
    "    \n",
    "    im_data_b = np.load(imbad)\n",
    "    im_mean_b = np.mean(im_data_b)\n",
    "    im_median_b = np.median(im_data_b)\n",
    "    im_std_b = np.std(im_data_b)\n",
    "        \n",
    "    im_median = 0.5*(im_median_g + im_median_b)    \n",
    "    im_std = 0.5*(im_std_g + im_std_b)    \n",
    "    \n",
    "    fig, axrr = plt.subplots(1, 2, figsize=(10,12))\n",
    "    #fig, ax = plt.subplots(figsize=(3,4))\n",
    "    im = axrr[0].imshow(im_data_g, origin='lower', interpolation='nearest', vmin=im_median_g-im_std_g, vmax=im_median_g+2*im_std_g, cmap='Greys_r')\n",
    "    axrr[0].set_title('Good')\n",
    "    plt.tight_layout()\n",
    "    axrr[0].set_xlabel('x')\n",
    "    axrr[0].set_ylabel('y')\n",
    "\n",
    "    #plt.subplot(1, 2, 2)\n",
    "    #fig, ax = plt.subplots(figsize=(3,4))\n",
    "    #fig, axrr = plt.subplots(1, 2, figsize=(16,8))\n",
    "    im = axrr[1].imshow(im_data_b, origin='lower', interpolation='nearest', vmin=im_median_b-im_std_b, vmax=im_median_b+2*im_std_b, cmap='Greys_r')\n",
    "    axrr[1].set_title('Bad')\n",
    "    plt.tight_layout()\n",
    "    axrr[1].set_xlabel('x')\n",
    "    axrr[1].set_ylabel('y')\n",
    "    \n",
    "    plt.show()\n",
    "    #fig.savefig(imnamea)"
   ]
  },
  {
   "cell_type": "code",
   "execution_count": 15,
   "metadata": {},
   "outputs": [],
   "source": [
    "import pandas as pd\n",
    "import numpy as np\n",
    "#import utils_blob as ub\n",
    "import os\n",
    "import multiprocessing\n",
    "import tqdm\n",
    "import time\n",
    "import random\n",
    "import matplotlib.pyplot as plt\n",
    "import warnings\n",
    "from functools import partial\n",
    "\n",
    "warnings.simplefilter(\"ignore\")"
   ]
  },
  {
   "cell_type": "code",
   "execution_count": 16,
   "metadata": {},
   "outputs": [
    {
     "name": "stdout",
     "output_type": "stream",
     "text": [
      "Taking data from  numpy/method3 .\n",
      "Working on UVES_BLUE_BIAS extension ext0...\n",
      "\n",
      "Good images...\n"
     ]
    },
    {
     "data": {
      "application/vnd.jupyter.widget-view+json": {
       "model_id": "6f4433245ec44c0390dbddc00fdb5769",
       "version_major": 2,
       "version_minor": 0
      },
      "text/plain": [
       "HBox(children=(IntProgress(value=0, max=20), HTML(value='')))"
      ]
     },
     "metadata": {},
     "output_type": "display_data"
    },
    {
     "name": "stdout",
     "output_type": "stream",
     "text": [
      "\n",
      "Bad Nicolas images...\n"
     ]
    },
    {
     "data": {
      "application/vnd.jupyter.widget-view+json": {
       "model_id": "183d41a828b4481a8c4a51e08cd5f85b",
       "version_major": 2,
       "version_minor": 0
      },
      "text/plain": [
       "HBox(children=(IntProgress(value=0, max=20), HTML(value='')))"
      ]
     },
     "metadata": {},
     "output_type": "display_data"
    },
    {
     "name": "stdout",
     "output_type": "stream",
     "text": [
      "\n",
      "Working on UVES_RED_BIAS extension ext1...\n",
      "\n",
      "Good images...\n"
     ]
    },
    {
     "data": {
      "application/vnd.jupyter.widget-view+json": {
       "model_id": "a361a3461d3745e3b3139f82611c5b5f",
       "version_major": 2,
       "version_minor": 0
      },
      "text/plain": [
       "HBox(children=(IntProgress(value=0, max=20), HTML(value='')))"
      ]
     },
     "metadata": {},
     "output_type": "display_data"
    },
    {
     "name": "stdout",
     "output_type": "stream",
     "text": [
      "\n",
      "Bad Nicolas images...\n"
     ]
    },
    {
     "data": {
      "application/vnd.jupyter.widget-view+json": {
       "model_id": "82b9823de05643ba90d70553db2d248b",
       "version_major": 2,
       "version_minor": 0
      },
      "text/plain": [
       "HBox(children=(IntProgress(value=0, max=20), HTML(value='')))"
      ]
     },
     "metadata": {},
     "output_type": "display_data"
    },
    {
     "name": "stdout",
     "output_type": "stream",
     "text": [
      "\n",
      "Working on UVES_RED_BIAS extension ext2...\n",
      "\n",
      "Good images...\n"
     ]
    },
    {
     "data": {
      "application/vnd.jupyter.widget-view+json": {
       "model_id": "4d690348e2aa49efbf294c4ee55c36be",
       "version_major": 2,
       "version_minor": 0
      },
      "text/plain": [
       "HBox(children=(IntProgress(value=0, max=20), HTML(value='')))"
      ]
     },
     "metadata": {},
     "output_type": "display_data"
    },
    {
     "name": "stdout",
     "output_type": "stream",
     "text": [
      "\n",
      "Bad Nicolas images...\n"
     ]
    },
    {
     "data": {
      "application/vnd.jupyter.widget-view+json": {
       "model_id": "91650bce472c4f0aaa16517532809b32",
       "version_major": 2,
       "version_minor": 0
      },
      "text/plain": [
       "HBox(children=(IntProgress(value=0, max=20), HTML(value='')))"
      ]
     },
     "metadata": {},
     "output_type": "display_data"
    },
    {
     "name": "stdout",
     "output_type": "stream",
     "text": [
      "\n",
      "Working on UVES_BLUE_WAVE extension ext1...\n",
      "\n",
      "Good images...\n"
     ]
    },
    {
     "data": {
      "application/vnd.jupyter.widget-view+json": {
       "model_id": "c0a8c542865346779fb68f9be5a45dfe",
       "version_major": 2,
       "version_minor": 0
      },
      "text/plain": [
       "HBox(children=(IntProgress(value=0, max=20), HTML(value='')))"
      ]
     },
     "metadata": {},
     "output_type": "display_data"
    },
    {
     "name": "stdout",
     "output_type": "stream",
     "text": [
      "\n",
      "Bad Nicolas images...\n"
     ]
    },
    {
     "data": {
      "application/vnd.jupyter.widget-view+json": {
       "model_id": "b5260cc07bfe46a78cb49cdfaccf83d3",
       "version_major": 2,
       "version_minor": 0
      },
      "text/plain": [
       "HBox(children=(IntProgress(value=0, max=20), HTML(value='')))"
      ]
     },
     "metadata": {},
     "output_type": "display_data"
    },
    {
     "name": "stdout",
     "output_type": "stream",
     "text": [
      "\n",
      "Working on UVES_BLUE_WAVE extension ext2...\n",
      "\n",
      "Good images...\n"
     ]
    },
    {
     "data": {
      "application/vnd.jupyter.widget-view+json": {
       "model_id": "b25eeb78769643e48ab508485dd3723b",
       "version_major": 2,
       "version_minor": 0
      },
      "text/plain": [
       "HBox(children=(IntProgress(value=0, max=20), HTML(value='')))"
      ]
     },
     "metadata": {},
     "output_type": "display_data"
    },
    {
     "name": "stdout",
     "output_type": "stream",
     "text": [
      "\n",
      "Bad Nicolas images...\n"
     ]
    },
    {
     "data": {
      "application/vnd.jupyter.widget-view+json": {
       "model_id": "009c5cdf159e4969ae1004e0ca380a9e",
       "version_major": 2,
       "version_minor": 0
      },
      "text/plain": [
       "HBox(children=(IntProgress(value=0, max=20), HTML(value='')))"
      ]
     },
     "metadata": {},
     "output_type": "display_data"
    },
    {
     "name": "stdout",
     "output_type": "stream",
     "text": [
      "\n",
      "Working on UVES_DIC1B_FLAT extension ext0...\n",
      "\n",
      "Good images...\n"
     ]
    },
    {
     "data": {
      "application/vnd.jupyter.widget-view+json": {
       "model_id": "08142bcc8f10426b962fe46a6c225468",
       "version_major": 2,
       "version_minor": 0
      },
      "text/plain": [
       "HBox(children=(IntProgress(value=0, max=20), HTML(value='')))"
      ]
     },
     "metadata": {},
     "output_type": "display_data"
    },
    {
     "name": "stdout",
     "output_type": "stream",
     "text": [
      "\n",
      "Bad Nicolas images...\n"
     ]
    },
    {
     "data": {
      "application/vnd.jupyter.widget-view+json": {
       "model_id": "c7ceec87b27d4e2393a3888b5226f1b8",
       "version_major": 2,
       "version_minor": 0
      },
      "text/plain": [
       "HBox(children=(IntProgress(value=0, max=20), HTML(value='')))"
      ]
     },
     "metadata": {},
     "output_type": "display_data"
    },
    {
     "name": "stdout",
     "output_type": "stream",
     "text": [
      "\n",
      "Working on UVES_DIC1B_DFLAT extension ext0...\n",
      "\n",
      "Good images...\n"
     ]
    },
    {
     "data": {
      "application/vnd.jupyter.widget-view+json": {
       "model_id": "dd13a252dd5c417593785caa4e8f8296",
       "version_major": 2,
       "version_minor": 0
      },
      "text/plain": [
       "HBox(children=(IntProgress(value=0, max=20), HTML(value='')))"
      ]
     },
     "metadata": {},
     "output_type": "display_data"
    },
    {
     "name": "stdout",
     "output_type": "stream",
     "text": [
      "\n",
      "Bad Nicolas images...\n"
     ]
    },
    {
     "data": {
      "application/vnd.jupyter.widget-view+json": {
       "model_id": "987da1cf6c9041168933f69554aa04e5",
       "version_major": 2,
       "version_minor": 0
      },
      "text/plain": [
       "HBox(children=(IntProgress(value=0, max=20), HTML(value='')))"
      ]
     },
     "metadata": {},
     "output_type": "display_data"
    },
    {
     "name": "stdout",
     "output_type": "stream",
     "text": [
      "\n",
      "Working on UVES_RED_WAVE extension ext1...\n",
      "\n",
      "Good images...\n"
     ]
    },
    {
     "data": {
      "application/vnd.jupyter.widget-view+json": {
       "model_id": "eb1da20d700249a89b82f305ea0c6e4e",
       "version_major": 2,
       "version_minor": 0
      },
      "text/plain": [
       "HBox(children=(IntProgress(value=0, max=20), HTML(value='')))"
      ]
     },
     "metadata": {},
     "output_type": "display_data"
    },
    {
     "name": "stdout",
     "output_type": "stream",
     "text": [
      "\n",
      "Bad Nicolas images...\n"
     ]
    },
    {
     "data": {
      "application/vnd.jupyter.widget-view+json": {
       "model_id": "4686018274694522b6272d794b749b22",
       "version_major": 2,
       "version_minor": 0
      },
      "text/plain": [
       "HBox(children=(IntProgress(value=0, max=20), HTML(value='')))"
      ]
     },
     "metadata": {},
     "output_type": "display_data"
    },
    {
     "name": "stdout",
     "output_type": "stream",
     "text": [
      "\n",
      "Working on UVES_RED_WAVE extension ext2...\n",
      "\n",
      "Good images...\n"
     ]
    },
    {
     "data": {
      "application/vnd.jupyter.widget-view+json": {
       "model_id": "a129ebc7dcfe4f73a39504fd389878bc",
       "version_major": 2,
       "version_minor": 0
      },
      "text/plain": [
       "HBox(children=(IntProgress(value=0, max=20), HTML(value='')))"
      ]
     },
     "metadata": {},
     "output_type": "display_data"
    },
    {
     "name": "stdout",
     "output_type": "stream",
     "text": [
      "\n",
      "Bad Nicolas images...\n"
     ]
    },
    {
     "data": {
      "application/vnd.jupyter.widget-view+json": {
       "model_id": "cab59e17a094454e83b929f526e96ba1",
       "version_major": 2,
       "version_minor": 0
      },
      "text/plain": [
       "HBox(children=(IntProgress(value=0, max=20), HTML(value='')))"
      ]
     },
     "metadata": {},
     "output_type": "display_data"
    },
    {
     "name": "stdout",
     "output_type": "stream",
     "text": [
      "\n",
      "Working on UVES_DIC1R_FLAT extension ext1...\n",
      "\n",
      "Good images...\n"
     ]
    },
    {
     "data": {
      "application/vnd.jupyter.widget-view+json": {
       "model_id": "c1769e6d73ca468da1ce48f8e1211378",
       "version_major": 2,
       "version_minor": 0
      },
      "text/plain": [
       "HBox(children=(IntProgress(value=0, max=20), HTML(value='')))"
      ]
     },
     "metadata": {},
     "output_type": "display_data"
    },
    {
     "name": "stdout",
     "output_type": "stream",
     "text": [
      "\n",
      "Bad Nicolas images...\n"
     ]
    },
    {
     "data": {
      "application/vnd.jupyter.widget-view+json": {
       "model_id": "d11848ea7b6445edb437b36f0a69a030",
       "version_major": 2,
       "version_minor": 0
      },
      "text/plain": [
       "HBox(children=(IntProgress(value=0, max=20), HTML(value='')))"
      ]
     },
     "metadata": {},
     "output_type": "display_data"
    },
    {
     "name": "stdout",
     "output_type": "stream",
     "text": [
      "\n",
      "Working on UVES_DIC1R_FLAT extension ext2...\n",
      "\n",
      "Good images...\n"
     ]
    },
    {
     "data": {
      "application/vnd.jupyter.widget-view+json": {
       "model_id": "9c3823d895054a92bc2337642effd274",
       "version_major": 2,
       "version_minor": 0
      },
      "text/plain": [
       "HBox(children=(IntProgress(value=0, max=20), HTML(value='')))"
      ]
     },
     "metadata": {},
     "output_type": "display_data"
    },
    {
     "name": "stdout",
     "output_type": "stream",
     "text": [
      "\n",
      "Bad Nicolas images...\n"
     ]
    },
    {
     "data": {
      "application/vnd.jupyter.widget-view+json": {
       "model_id": "577a19aa8f1143f2937b65a582b75a49",
       "version_major": 2,
       "version_minor": 0
      },
      "text/plain": [
       "HBox(children=(IntProgress(value=0, max=20), HTML(value='')))"
      ]
     },
     "metadata": {},
     "output_type": "display_data"
    },
    {
     "name": "stdout",
     "output_type": "stream",
     "text": [
      "\n"
     ]
    }
   ],
   "source": [
    "# This cell list and download nsample descriptors from blob sotrage\n",
    "# stored at method_dir\n",
    "# The select_year flag allows selection of single year images\n",
    "# For a given image type it take good and bad descriptors with its \n",
    "# correspondig abbreviation name\n",
    "nsample = 20\n",
    "\n",
    "method_dir = 'numpy/method3'\n",
    "\n",
    "random.seed(101)\n",
    "save_fig = False\n",
    "select_year = False\n",
    "year = '2018'\n",
    "\n",
    "DescBlobSubDirs = ['UVES_BLUE_BIAS','UVES_RED_BIAS','UVES_BLUE_WAVE','UVES_DIC1B_FLAT','UVES_DIC1B_DFLAT','UVES_RED_WAVE','UVES_DIC1R_FLAT']\n",
    "imag_dim = 11#len(DescBlobSubDirs)\n",
    "desc_dim = 2048\n",
    "samp_dim = nsample\n",
    "cube_good = np.zeros((imag_dim,samp_dim,desc_dim))\n",
    "cube_bad  = np.zeros((imag_dim,samp_dim,desc_dim))\n",
    "cube      = np.zeros((imag_dim,samp_dim,desc_dim))\n",
    "path_loc = '../Temp/test'\n",
    "desc_name = []\n",
    "desc_nameb = []\n",
    "i = 0\n",
    "\n",
    "print('Taking data from ',method_dir,'.')\n",
    "# Loof for images type folder\n",
    "for desc_blob_sub_dir in DescBlobSubDirs:\n",
    "    \n",
    "    # Images extensions    \n",
    "    if desc_blob_sub_dir == 'UVES_BLUE_BIAS' or desc_blob_sub_dir == 'UVES_DIC1B_FLAT' or desc_blob_sub_dir == 'UVES_DIC1B_DFLAT':\n",
    "        Exten = [0]\n",
    "    elif desc_blob_sub_dir == 'UVES_RED_BIAS' or desc_blob_sub_dir == 'UVES_BLUE_WAVE' or desc_blob_sub_dir == 'UVES_RED_WAVE' or desc_blob_sub_dir == 'UVES_DIC1R_FLAT':\n",
    "        Exten = [1,2]\n",
    "    \n",
    "    # Define the image type\n",
    "    if desc_blob_sub_dir == 'UVES_BLUE_BIAS':\n",
    "        image_type = 'bias_blue'\n",
    "        abr_name = 'UBB'\n",
    "    elif desc_blob_sub_dir == 'UVES_RED_BIAS':\n",
    "        image_type = 'URB'\n",
    "    elif desc_blob_sub_dir == 'UVES_BLUE_WAVE' or desc_blob_sub_dir == 'UVES_DIC1B_FLAT' or desc_blob_sub_dir == 'UVES_DIC1B_DFLAT':\n",
    "        image_type = 'blue_arc_flat'\n",
    "        if desc_blob_sub_dir == 'UVES_BLUE_WAVE':\n",
    "            abr_name = 'UBW'\n",
    "        elif desc_blob_sub_dir == 'UVES_DIC1B_FLAT':\n",
    "            abr_name = 'UD1BF'\n",
    "        elif desc_blob_sub_dir == 'UVES_DIC1B_DFLAT':\n",
    "            abr_name = 'UD1BDF'\n",
    "    elif desc_blob_sub_dir == 'UVES_RED_WAVE' or desc_blob_sub_dir == 'UVES_DIC1R_FLAT':\n",
    "        image_type = 'red_arc_flat'\n",
    "        if desc_blob_sub_dir == 'UVES_RED_WAVE':\n",
    "            abr_name = 'URW'\n",
    "        elif desc_blob_sub_dir == 'UVES_DIC1R_FLAT':\n",
    "            abr_name = 'UD1RF'\n",
    "\n",
    "    # Take bad image names\n",
    "    PROJECT_DIR = \"/data/notebooks/uves_jprieto\"\n",
    "    DATA_DIR = os.path.join(PROJECT_DIR, \"data\")\n",
    "    \n",
    "    uves_flag_file=os.path.join(DATA_DIR, 'UVES_hidden_flag_results.txt')\n",
    "    uves_flag_df=pd.read_csv(uves_flag_file, comment='#', sep=';')\n",
    "    corrupted_df = uves_flag_df[(uves_flag_df['image_type'] == image_type) & (uves_flag_df['flag'] == 'CORRUPTED')]\n",
    "    bad_files_garchim = list(corrupted_df['filename']) \n",
    "    \n",
    "    # Loop for images extensions\n",
    "    for ext in Exten:\n",
    "        abr_name = abr_name + str(ext)\n",
    "        extension = 'ext'+str(ext)\n",
    "        print('Working on ' + desc_blob_sub_dir + ' extension ' + extension + '...\\n')\n",
    "        \n",
    "        # Bad Garchim images\n",
    "        # ----------------------------------------------------------------------\n",
    "        desc_folder_rem = os.path.join(method_dir,desc_blob_sub_dir)\n",
    "        desc_folder_rem = os.path.join(desc_folder_rem,extension)\n",
    "        \n",
    "        desc_files_list = []\n",
    "        BlobList(cont_name_desc, desc_folder_rem, desc_files_list)\n",
    "        \n",
    "        desc_cor_list = []\n",
    "        desc_files_list = [s for s in desc_files_list if any(xs in s for xs in bad_files_garchim)]\n",
    "        \n",
    "        if len(desc_files_list) >= nsample:\n",
    "            desc_files_list = random.sample(desc_files_list, nsample)\n",
    "        desc_badg_files = desc_files_list\n",
    "\n",
    "\n",
    "        # Good images method\n",
    "        # ----------------------------------------------------------------------\n",
    "        desc_folder_rem = os.path.join(method_dir,desc_blob_sub_dir)\n",
    "        desc_folder_rem = os.path.join(desc_folder_rem,extension)\n",
    "        \n",
    "        desc_files_list = []\n",
    "        BlobList(cont_name_desc, desc_folder_rem, desc_files_list)\n",
    "        \n",
    "        desc_files_list = [s for s in desc_files_list if s not in bad_files_garchim]\n",
    "        if select_year==True:\n",
    "            desc_files_list = [s for s in desc_files_list if year in s]\n",
    "            if len(desc_files_list) >= nsample:\n",
    "                desc_files_list = random.sample(desc_files_list, nsample)\n",
    "        elif select_year==False:\n",
    "            if len(desc_files_list) >= nsample:\n",
    "                desc_files_list = random.sample(desc_files_list, nsample)        \n",
    "        desc_good_files = desc_files_list\n",
    "        \n",
    "        desc_temp = np.zeros(2048).T\n",
    "        desc_matrix = np.expand_dims(desc_temp,axis=0)\n",
    "\n",
    "        im_abr = []\n",
    "        print('Good images...')\n",
    "        with tqdm.tqdm_notebook(total=len(desc_files_list)) as pbar:\n",
    "            for idx in range(len(desc_files_list)):\n",
    "                \n",
    "                name = abr_name + str(idx)\n",
    "                im_abr.append(name)\n",
    "                file = desc_files_list[idx]\n",
    "                desc_blob_name = desc_folder_rem + file\n",
    "                descriptor_file = path_loc + file\n",
    "\n",
    "                DownBlob(cont_name_desc, desc_blob_name, descriptor_file, False)\n",
    "                \n",
    "                while not os.path.exists(descriptor_file):\n",
    "                    time.sleep(0.1)\n",
    "\n",
    "                desc_resNet50 = np.load(descriptor_file)\n",
    "                np_desc = np.array(desc_resNet50)\n",
    "                desc_matrix = np.vstack((desc_matrix,np_desc))\n",
    "                os.remove(descriptor_file)\n",
    "                pbar.update(1)\n",
    "        \n",
    "        desc_name.append(im_abr)\n",
    "        desc_good = np.delete(desc_matrix,0,axis=0)\n",
    "        cube_good[i,:,:] = desc_good \n",
    "        \n",
    "        # Bad Nicolas images\n",
    "        # ----------------------------------------------------------------------\n",
    "        desc_folder_rem = os.path.join(method_dir,desc_blob_sub_dir)\n",
    "        desc_folder_rem = os.path.join(desc_folder_rem,extension)\n",
    "        \n",
    "        desc_files_list = []\n",
    "        BlobList(cont_name_desc_cor, desc_folder_rem, desc_files_list)\n",
    "        if nsample<=100:\n",
    "            desc_files_list = random.sample(desc_files_list, nsample)\n",
    "        desc_badn_files = desc_files_list\n",
    "        desc_temp = np.zeros(2048).T\n",
    "        desc_matrix = np.expand_dims(desc_temp,axis=0)\n",
    "        \n",
    "        im_abr = []\n",
    "        print('Bad Nicolas images...')\n",
    "        with tqdm.tqdm_notebook(total=len(desc_files_list)) as pbar:\n",
    "            for idx in range(len(desc_files_list)):\n",
    "                \n",
    "                name = abr_name + str(idx) + '_b'\n",
    "                im_abr.append(name)\n",
    "                \n",
    "                file = desc_files_list[idx]\n",
    "                desc_blob_name = desc_folder_rem + file\n",
    "                descriptor_file = path_loc + file\n",
    "                \n",
    "                DownBlob(cont_name_desc_cor, desc_blob_name, descriptor_file, False)\n",
    "\n",
    "                while not os.path.exists(descriptor_file):\n",
    "                    time.sleep(0.1)\n",
    "                    \n",
    "                desc_resNet50 = np.load(descriptor_file)\n",
    "                np_desc = np.array(desc_resNet50)\n",
    "                desc_matrix = np.vstack((desc_matrix,np_desc))\n",
    "                os.remove(descriptor_file)\n",
    "                pbar.update(1)\n",
    "        \n",
    "        desc_nameb.append(im_abr)\n",
    "        desc_badn = np.delete(desc_matrix,0,axis=0)\n",
    "        cube_bad[i,:,:] = desc_badn\n",
    "        i+=1"
   ]
  },
  {
   "cell_type": "code",
   "execution_count": 17,
   "metadata": {},
   "outputs": [],
   "source": [
    "# It define the clustering parameters\n",
    "from sklearn.preprocessing import normalize\n",
    "from sklearn.metrics.pairwise import cosine_similarity, euclidean_distances\n",
    "from sklearn.cluster import AgglomerativeClustering\n",
    "import scipy.cluster.hierarchy as sch\n",
    "\n",
    "norm = False\n",
    "method = 'single'\n",
    "metric = 'cosine'\n",
    "criterion = 'distance'"
   ]
  },
  {
   "cell_type": "code",
   "execution_count": 18,
   "metadata": {},
   "outputs": [],
   "source": [
    "# Save descriptors and names for each image\n",
    "UBB0    = cube_good[ 0,:,:]\n",
    "URB1    = cube_good[ 1,:,:]\n",
    "URB2    = cube_good[ 2,:,:]\n",
    "UBW1    = cube_good[ 3,:,:]\n",
    "UBW2    = cube_good[ 4,:,:]\n",
    "UD1BF0  = cube_good[ 5,:,:]\n",
    "UD1BDF0 = cube_good[ 6,:,:]\n",
    "URW1    = cube_good[ 7,:,:]\n",
    "URW2    = cube_good[ 8,:,:]\n",
    "UD1RF1  = cube_good[ 9,:,:]\n",
    "UD1RF2  = cube_good[10,:,:]\n",
    "\n",
    "UBB0name    = desc_name[ 0]\n",
    "URB1name    = desc_name[ 1]\n",
    "URB2name    = desc_name[ 2]\n",
    "UBW1name    = desc_name[ 3]\n",
    "UBW2name    = desc_name[ 4]\n",
    "UD1BF0name  = desc_name[ 5]\n",
    "UD1BDF0name = desc_name[ 6]\n",
    "URW1name    = desc_name[ 7]\n",
    "URW2name    = desc_name[ 8]\n",
    "UD1RF1name  = desc_name[ 9]\n",
    "UD1RF2name  = desc_name[10]\n",
    "\n",
    "UBB0b    = cube_bad[ 0,:,:]\n",
    "URB1b    = cube_bad[ 1,:,:]\n",
    "URB2b    = cube_bad[ 2,:,:]\n",
    "UBW1b    = cube_bad[ 3,:,:]\n",
    "UBW2b    = cube_bad[ 4,:,:]\n",
    "UD1BF0b  = cube_bad[ 5,:,:]\n",
    "UD1BDF0b = cube_bad[ 6,:,:]\n",
    "URW1b    = cube_bad[ 7,:,:]\n",
    "URW2b    = cube_bad[ 8,:,:]\n",
    "UD1RF1b  = cube_bad[ 9,:,:]\n",
    "UD1RF2b  = cube_bad[10,:,:]\n",
    "\n",
    "UBB0nameb    = desc_nameb[ 0]\n",
    "URB1nameb    = desc_nameb[ 1]\n",
    "URB2nameb    = desc_nameb[ 2]\n",
    "UBW1nameb    = desc_nameb[ 3]\n",
    "UBW2nameb    = desc_nameb[ 4]\n",
    "UD1BF0nameb  = desc_nameb[ 5]\n",
    "UD1BDF0nameb = desc_nameb[ 6]\n",
    "URW1nameb    = desc_nameb[ 7]\n",
    "URW2nameb    = desc_nameb[ 8]\n",
    "UD1RF1nameb  = desc_nameb[ 9]\n",
    "UD1RF2nameb  = desc_nameb[10]"
   ]
  },
  {
   "cell_type": "code",
   "execution_count": 19,
   "metadata": {},
   "outputs": [
    {
     "data": {
      "application/vnd.jupyter.widget-view+json": {
       "model_id": "46ac90dd65054209a97b46f19e3a9017",
       "version_major": 2,
       "version_minor": 0
      },
      "text/plain": [
       "HBox(children=(IntProgress(value=0, max=500), HTML(value='')))"
      ]
     },
     "metadata": {},
     "output_type": "display_data"
    },
    {
     "name": "stdout",
     "output_type": "stream",
     "text": [
      "\n"
     ]
    },
    {
     "data": {
      "image/png": "[encoded data removed]",
      "text/plain": [
       "<Figure size 432x288 with 1 Axes>"
      ]
     },
     "metadata": {
      "needs_background": "light"
     },
     "output_type": "display_data"
    },
    {
     "data": {
      "image/png": "[encoded data removed]",
      "text/plain": [
       "<Figure size 360x396 with 1 Axes>"
      ]
     },
     "metadata": {
      "needs_background": "light"
     },
     "output_type": "display_data"
    },
    {
     "name": "stdout",
     "output_type": "stream",
     "text": [
      "Threshold      : 0.00240\n",
      "F score (F1)   : 0.74074\n",
      "Recall (TPR)   : 1.00000\n",
      "Precision (PPV): 0.58824\n"
     ]
    }
   ],
   "source": [
    "# Loop to look for the optimus threshold in order to cluster\n",
    "# the good and bad images\n",
    "# The images name abbreviation are\n",
    "# UBB0,URB1,URB2,UBW1,UBW2,UD1BF0,UD1BDF0,URW1,URW2,UD1RF1,UD1RF2\n",
    "from sklearn.cluster import AgglomerativeClustering\n",
    "from scipy.cluster import hierarchy\n",
    "from sklearn.metrics import accuracy_score\n",
    "from statistics import mode\n",
    "from scipy.cluster.vq import whiten\n",
    "\n",
    "np.set_printoptions(precision=6, suppress=True)\n",
    "\n",
    "def most_frequent(List): \n",
    "    return max(set(List), key = List.count) \n",
    "\n",
    "im_name = 'URW2'\n",
    "matg = URW2\n",
    "matb = URW2b\n",
    "mat  = np.vstack((matg,matb))\n",
    "\n",
    "if norm==True:\n",
    "    mat = whiten(mat)\n",
    "\n",
    "namesg = UD1BF0name\n",
    "namesb = UD1BF0nameb\n",
    "names = namesg\n",
    "names.extend(namesb)\n",
    "\n",
    "rate = []\n",
    "ratef = []\n",
    "rateg = []\n",
    "rateb = []\n",
    "fscore = []\n",
    "threshold = []\n",
    "\n",
    "threshi = 1.0e-5\n",
    "threshe = 1.0e-1\n",
    "thresh_list = list(np.geomspace(threshi,threshe,num=500))\n",
    "\n",
    "with tqdm.tqdm_notebook(total=len(thresh_list)) as pbar:\n",
    "    for thresh in thresh_list:\n",
    "        model = AgglomerativeClustering(n_clusters=None, \n",
    "                                          affinity=metric, \n",
    "                                          linkage=method,\n",
    "                                          distance_threshold=thresh, \n",
    "                                          compute_full_tree=True)  \n",
    "        clusters = model.fit(mat)\n",
    "        labels = clusters.labels_\n",
    "        arrg = labels[:nsample]\n",
    "        arrb = labels[nsample:]\n",
    "        listg = list(arrg)\n",
    "        listb = list(arrb)\n",
    "        val = most_frequent(listg)\n",
    "        tp = listg.count(val)\n",
    "        fp = listb.count(val)\n",
    "        tn = len(listb)-fp\n",
    "        fn = len(listg)-tp\n",
    "        # Compute \"by hand\" the statistical values\n",
    "        TPR = tp/max(tp+fn,1.0e-5) # recall (true positive rate)\n",
    "        FPR = fp/max(fp+tn,1.0e-5) # false positve rate\n",
    "        PPV = tp/max(tp+fp,1.0e-5) # precision\n",
    "        NPV = tn/max(tn+fn,1.0e-5) # negative predicted value\n",
    "        F1 = 2.0*PPV*TPR/max(PPV+TPR,1.0e-5)\n",
    "        #print(thresh,PPV)\n",
    "        rate.append(TPR)\n",
    "        ratef.append(FPR)\n",
    "        rateg.append(PPV)\n",
    "        rateb.append(NPV)\n",
    "        fscore.append(F1)\n",
    "        threshold.append(thresh)\n",
    "        pbar.update(1)\n",
    "\n",
    "x = threshold\n",
    "y = rate\n",
    "z = rateg\n",
    "k = fscore\n",
    "\n",
    "plt.scatter(x, y, c='blue', s=5, alpha=0.8, edgecolors='none', label='Recall')\n",
    "plt.scatter(x, z, c='red', s=5, alpha=0.8, edgecolors='none', label='Precision')\n",
    "plt.scatter(x, k, c='green', s=5, alpha=0.8, edgecolors='none', label='F1score')\n",
    "plt.legend()\n",
    "plt.title('Confusion information', fontsize=14)\n",
    "plt.xlabel('Threshold', fontsize=14)\n",
    "plt.ylabel('Values', fontsize=14)\n",
    "plt.xscale('log')\n",
    "plt.xlim((threshi,threshe))\n",
    "plt.tight_layout()\n",
    "plt.grid()\n",
    "plt.show()\n",
    "if save_fig==True:\n",
    "    plt.savefig('./figure.png')\n",
    "\n",
    "max_fscore = max(fscore)\n",
    "ind_list = [i for i, j in enumerate(fscore) if j == max_fscore]\n",
    "ind = ind_list[0]\n",
    "max_thresh = thresh_list[ind]\n",
    "max_rate = rate[ind]\n",
    "max_rateg = rateg[ind]\n",
    "threshc = max_thresh\n",
    "\n",
    "x = ratef\n",
    "y = rate\n",
    "fig = plt.figure(figsize=(5,5.5))\n",
    "plt.scatter(x, y, c='blue', s=20, alpha=0.8, edgecolors='none', label='ROC curve')\n",
    "plt.plot(x, y, c='blue', alpha=0.8, label=None)\n",
    "plt.scatter(x, x, c='red', s=20, alpha=0.8, edgecolors='none', label='y=x')\n",
    "plt.plot(x, x, c='red', alpha=0.8, label=None)\n",
    "plt.legend()\n",
    "plt.title('ROC curve', fontsize=14)\n",
    "plt.xlabel('FPR', fontsize=14)\n",
    "plt.ylabel('TPR', fontsize=14)\n",
    "plt.tight_layout()\n",
    "plt.grid()\n",
    "plt.show()\n",
    "\n",
    "print('Threshold      : %.5f' % max_thresh)\n",
    "print('F score (F1)   : %.5f' % max_fscore)\n",
    "print('Recall (TPR)   : %.5f' % max_rate)\n",
    "print('Precision (PPV): %.5f' % max_rateg)\n",
    "\n",
    "#plt.scatter(clusters[0,0],clusters[0,1], s=10, c='red', alpha=0.8, label='Cluster 1')\n",
    "#plt.scatter(clusters[1,0],clusters[1,1], s=10, c='blue', alpha=0.8, label='Cluster 2')\n",
    "#plt.show()"
   ]
  },
  {
   "cell_type": "code",
   "execution_count": 20,
   "metadata": {},
   "outputs": [
    {
     "data": {
      "image/png": "[encoded data removed]",
      "text/plain": [
       "<Figure size 360x864 with 1 Axes>"
      ]
     },
     "metadata": {
      "needs_background": "light"
     },
     "output_type": "display_data"
    }
   ],
   "source": [
    "# For the parameters defined above create the desdrograms\n",
    "# of the clustering process\n",
    "from sklearn.cluster import AgglomerativeClustering\n",
    "import scipy.cluster.hierarchy as sch\n",
    "\n",
    "thresh = threshc\n",
    "fig = plt.figure(figsize=(5,12))\n",
    "plt.title('%s  Method 3 - %i images/type' % (im_name, nsample), fontsize=16)\n",
    "\n",
    "Z = sch.linkage(mat, method=method, metric=metric, optimal_ordering=True)\n",
    "ymax = 10.0*Z[mat.shape[0]-2,2]\n",
    "ymin = 0.5*Z[0,2]\n",
    "dend = sch.dendrogram(Z, color_threshold=threshc, labels=names, orientation='right')\n",
    "plt.ylabel('Descriptor', fontsize=14)\n",
    "plt.xlabel('Cosine distance', fontsize=14)\n",
    "plt.xscale('log')\n",
    "plt.yticks(fontsize=10)\n",
    "plt.xticks(fontsize=12)\n",
    "plt.xlim((ymin,ymax))\n",
    "plt.grid()\n",
    "plt.show()\n",
    "\n",
    "if save_image==True:\n",
    "    fig.savefig('figure.png')"
   ]
  },
  {
   "cell_type": "code",
   "execution_count": null,
   "metadata": {},
   "outputs": [],
   "source": []
  }
 ],
 "metadata": {
  "kernelspec": {
   "display_name": "PoC ESO",
   "language": "python",
   "name": "eso"
  },
  "language_info": {
   "codemirror_mode": {
    "name": "ipython",
    "version": 3
   },
   "file_extension": ".py",
   "mimetype": "text/x-python",
   "name": "python",
   "nbconvert_exporter": "python",
   "pygments_lexer": "ipython3",
   "version": "3.6.8"
  }
 },
 "nbformat": 4,
 "nbformat_minor": 4
}
