{
 "cells": [
  {
   "cell_type": "code",
   "execution_count": 1,
   "metadata": {},
   "outputs": [],
   "source": [
    "'''\n",
    "------------------------------------------------------------------------------\n",
    " This script download the descriptors to be used in the tutoial.\n",
    " It needs account information:\n",
    "   - Account name.\n",
    "   - Account key.\n",
    " It needs the blob container information\n",
    "   - Container name\n",
    "   - Container sub-directory\n",
    "------------------------------------------------------------------------------\n",
    "'''\n",
    "import os, uuid, sys\n",
    "import subprocess\n",
    "import tqdm\n",
    "import astropy\n",
    "import numpy as np\n",
    "import pandas as pd\n",
    "import matplotlib.pyplot as plt\n",
    "import multiprocessing\n",
    "import pyarrow as pa\n",
    "import pyarrow.parquet as pq\n",
    "import random\n",
    "\n",
    "from io import BytesIO\n",
    "from astropy.io import fits\n",
    "from functools import partial\n",
    "from azure.storage.blob import BlockBlobService, PublicAccess\n",
    "sys.path.append('./')"
   ]
  },
  {
   "cell_type": "code",
   "execution_count": 3,
   "metadata": {},
   "outputs": [
    {
     "data": {
      "text/plain": [
       "<azure.storage.blob.models.ResourceProperties at 0x7fdeb253b940>"
      ]
     },
     "execution_count": 3,
     "metadata": {},
     "output_type": "execute_result"
    }
   ],
   "source": [
    "# Create the BlockBlockService that is used to call the Blob service \n",
    "# for the storage account\n",
    "import config_blob_keys as cfg\n",
    "\n",
    "account_name = cfg.AccountName\n",
    "account_key = cfg.AccountKey\n",
    "block_blob_service = BlockBlobService(account_name=account_name, account_key=account_key)\n",
    "\n",
    "cont_name_proc = cfg.ContNameProc\n",
    "block_blob_service.set_container_acl(cont_name_proc, public_access=PublicAccess.Container)\n",
    "\n",
    "cont_name_proc_cor = cfg.ContNameProcCor\n",
    "block_blob_service.set_container_acl(cont_name_proc_cor, public_access=PublicAccess.Container)"
   ]
  },
  {
   "cell_type": "code",
   "execution_count": 20,
   "metadata": {},
   "outputs": [],
   "source": [
    "# Functions to move files in azure cloud\n",
    "\n",
    "# Create a list \"filelist\" with the blob content\n",
    "# inside the \"Azure:container/folder\" location \n",
    "def BlobList(container, folder, filelist, verbose=False):\n",
    "    \n",
    "    gen = block_blob_service.list_blobs(container, prefix=folder)\n",
    "    \n",
    "    for blob in gen:\n",
    "        file = str(blob.name).replace(folder,'')\n",
    "        filelist.append(file)\n",
    "        if verbose == True:\n",
    "            print(\"\\t Blob name: \" + blob.name)\n",
    "        \n",
    "    return filelist\n",
    "\n",
    "# Download a file \"blobfile\" from \"container\" and save it \n",
    "# in the file \"locfile\"\n",
    "def DownBlob(container, blobfile, locfile, verbose=False):\n",
    "    \n",
    "    if verbose == True:\n",
    "        print('Downloading ' + blobfile + ' to ' + locfile)\n",
    "    \n",
    "    block_blob_service.get_blob_to_path(container, blobfile, locfile)\n",
    "\n",
    "# Uncompress data \n",
    "def UnCompress(file, verbose=False):\n",
    "    \n",
    "    if verbose == True:\n",
    "        print('Uncompressing ' + file)\n",
    "    \n",
    "    subprocess.call(['uncompress', file])\n",
    "    #os.popen('uncompress ' + file)\n",
    "\n",
    "# Upload file \"locfile\" to the blob \"blobfile\" in container\n",
    "def UpBlob(container, blobfile, locfile, verbose=False):\n",
    "    \n",
    "    if verbose == True:\n",
    "        print('Uploading ' + locfile + ' to ' + blobfile)\n",
    "        \n",
    "    block_blob_service.create_blob_from_path(container, blobfile, locfile, validate_content=True)\n",
    "\n",
    "# Select descriptors file from a list\n",
    "def SelectArray(path_loc, cont_name, desc_blob_sub_dir, file, verbose=False):       \n",
    "    # Download descriptors\n",
    "    desc_blob_name = os.path.join(desc_blob_sub_dir,file)\n",
    "    path_to_file_loc = os.path.join(path_loc, file)\n",
    "    \n",
    "    DownBlob(cont_name, desc_blob_name, path_to_file_loc, False)\n",
    "    \n",
    "    while not os.path.exists(path_to_file_loc):\n",
    "        time.sleep(0.1)"
   ]
  },
  {
   "cell_type": "code",
   "execution_count": 24,
   "metadata": {},
   "outputs": [
    {
     "name": "stdout",
     "output_type": "stream",
     "text": [
      "Working on UVES_BLUE_BIAS...\n",
      "Good files...\n"
     ]
    },
    {
     "data": {
      "application/vnd.jupyter.widget-view+json": {
       "model_id": "004f51d02bd0441f819dd61c7171a9dc",
       "version_major": 2,
       "version_minor": 0
      },
      "text/plain": [
       "HBox(children=(IntProgress(value=0, max=30), HTML(value='')))"
      ]
     },
     "metadata": {},
     "output_type": "display_data"
    },
    {
     "name": "stdout",
     "output_type": "stream",
     "text": [
      "Bad Nicolas files...\n"
     ]
    },
    {
     "data": {
      "application/vnd.jupyter.widget-view+json": {
       "model_id": "c34bfff7b2614be19873f9ab09e2fed9",
       "version_major": 2,
       "version_minor": 0
      },
      "text/plain": [
       "HBox(children=(IntProgress(value=0, max=30), HTML(value='')))"
      ]
     },
     "metadata": {},
     "output_type": "display_data"
    },
    {
     "name": "stdout",
     "output_type": "stream",
     "text": [
      "Bad Garchim files...\n"
     ]
    },
    {
     "data": {
      "application/vnd.jupyter.widget-view+json": {
       "model_id": "2b3174186d7343afb2590e2be1e9662d",
       "version_major": 2,
       "version_minor": 0
      },
      "text/plain": [
       "HBox(children=(IntProgress(value=0, max=30), HTML(value='')))"
      ]
     },
     "metadata": {},
     "output_type": "display_data"
    },
    {
     "name": "stdout",
     "output_type": "stream",
     "text": [
      "Working on UVES_DIC1B_DFLAT...\n",
      "Good files...\n"
     ]
    },
    {
     "data": {
      "application/vnd.jupyter.widget-view+json": {
       "model_id": "6b79c5001c12428ca9f3cc8a2f321be0",
       "version_major": 2,
       "version_minor": 0
      },
      "text/plain": [
       "HBox(children=(IntProgress(value=0, max=30), HTML(value='')))"
      ]
     },
     "metadata": {},
     "output_type": "display_data"
    },
    {
     "name": "stdout",
     "output_type": "stream",
     "text": [
      "Bad Nicolas files...\n"
     ]
    },
    {
     "data": {
      "application/vnd.jupyter.widget-view+json": {
       "model_id": "f381fb169c6c4b1e81eb268816cf8566",
       "version_major": 2,
       "version_minor": 0
      },
      "text/plain": [
       "HBox(children=(IntProgress(value=0, max=30), HTML(value='')))"
      ]
     },
     "metadata": {},
     "output_type": "display_data"
    },
    {
     "name": "stdout",
     "output_type": "stream",
     "text": [
      "Bad Garchim files...\n"
     ]
    },
    {
     "data": {
      "application/vnd.jupyter.widget-view+json": {
       "model_id": "faf6d8f3ca31447489af961cec609a3c",
       "version_major": 2,
       "version_minor": 0
      },
      "text/plain": [
       "HBox(children=(IntProgress(value=0, max=30), HTML(value='')))"
      ]
     },
     "metadata": {},
     "output_type": "display_data"
    }
   ],
   "source": [
    "# Download the images to ../data/desc_for_test/UVES_*\n",
    "ProcBlobSubDirs = ['UVES_BLUE_BIAS','UVES_DIC1B_DFLAT']\n",
    "# Root local path\n",
    "method_dir = 'numpy' # Do not put a '/' at the beggining!!!\n",
    "path_loc = './desc_for_test/method2'\n",
    "path_loc_down = './array_for_test'\n",
    "random.seed(100)\n",
    "# Maximum number of files for dowload\n",
    "nmax = 30\n",
    "bad_files_garchim = []\n",
    "\n",
    "# loop for descriptors folders\n",
    "for proc_blob_sub_dir in ProcBlobSubDirs:\n",
    "    \n",
    "    print('Working on ' + proc_blob_sub_dir + '...')\n",
    "    # Define the image type\n",
    "    if proc_blob_sub_dir == 'UVES_BLUE_BIAS':\n",
    "        image_type = 'bias_blue'\n",
    "    elif proc_blob_sub_dir == 'UVES_RED_BIAS':\n",
    "        image_type = 'bias_red'\n",
    "    elif proc_blob_sub_dir == 'UVES_BLUE_WAVE' or proc_blob_sub_dir == 'UVES_DIC1B_FLAT' or proc_blob_sub_dir == 'UVES_DIC1B_DFLAT':\n",
    "        image_type = 'blue_arc_flat'\n",
    "    elif proc_blob_sub_dir == 'UVES_RED_WAVE' or proc_blob_sub_dir == 'UVES_DIC1R_FLAT':\n",
    "        image_type = 'red_arc_flat'\n",
    "        \n",
    "    if proc_blob_sub_dir == 'UVES_BLUE_BIAS' or proc_blob_sub_dir == 'UVES_DIC1B_FLAT' or proc_blob_sub_dir == 'UVES_DIC1B_DFLAT':\n",
    "        Exten = 0\n",
    "    elif proc_blob_sub_dir == 'UVES_RED_BIAS' or proc_blob_sub_dir == 'UVES_BLUE_WAVE' or proc_blob_sub_dir == 'UVES_RED_WAVE' or proc_blob_sub_dir == 'UVES_DIC1R_FLAT':\n",
    "        Exten = 1#,2]\n",
    "        \n",
    "    extension = '/ext' + str(Exten)\n",
    "    \n",
    "    # Take the Garchim bad images name\n",
    "    #PROJECT_DIR = \"/data/notebooks/uves_jprieto\"\n",
    "    #DATA_DIR = os.path.join(PROJECT_DIR, \"data\")\n",
    "    #uves_flag_file = os.path.join(DATA_DIR, 'UVES_hidden_flag_results.txt')\n",
    "    #uves_flag_df = pd.read_csv(uves_flag_file, comment='#', sep=';')\n",
    "    #uves_flag_df['filename'] = uves_flag_df['filename']+'_desc.npy'\n",
    "    #corrupted_df = uves_flag_df[(uves_flag_df['image_type'] == image_type) & (uves_flag_df['flag'] == 'CORRUPTED')]\n",
    "    #bad_files_garchim = list(corrupted_df['filename'])     \n",
    "\n",
    "    # List the good descriptor files\n",
    "    print('Good files...')\n",
    "    proc_folder_rem = method_dir + '/' + proc_blob_sub_dir + extension\n",
    "    good_path_loc = path_loc + '/good/' + proc_blob_sub_dir + extension\n",
    "    good_path_loc_down =  good_path_loc.replace(path_loc,path_loc_down).replace('method2','')\n",
    "    good_files_list = []\n",
    "    for file in os.listdir(good_path_loc):\n",
    "        if file.endswith('.npy'):\n",
    "            file = file.replace('_desc','')\n",
    "            good_files_list.append(file)\n",
    "        \n",
    "    tasks = partial(SelectArray, good_path_loc_down, cont_name_proc, proc_folder_rem)\n",
    "    with multiprocessing.Pool(1) as p:\n",
    "        result = list(tqdm.tqdm_notebook(p.imap(tasks, good_files_list), total=len(good_files_list)))\n",
    "\n",
    "    # List the bad nicolas descriptor files\n",
    "    print('Bad Nicolas files...')\n",
    "    proc_folder_rem = method_dir + '/' + proc_blob_sub_dir + extension\n",
    "    badn_path_loc = path_loc + '/badn/' + proc_blob_sub_dir + extension\n",
    "    badn_path_loc_down =  badn_path_loc.replace(path_loc,path_loc_down).replace('method2','')\n",
    "    badn_files_list = []\n",
    "    for file in os.listdir(badn_path_loc):\n",
    "        if file.endswith('.npy'):\n",
    "            file = file.replace('_desc','')\n",
    "            badn_files_list.append(file)\n",
    "        \n",
    "    tasks = partial(SelectArray, badn_path_loc_down, cont_name_proc_cor, proc_folder_rem)\n",
    "    with multiprocessing.Pool(1) as p:\n",
    "        result = list(tqdm.tqdm_notebook(p.imap(tasks, badn_files_list), total=len(badn_files_list)))\n",
    "\n",
    "    # List the bad descriptor files\n",
    "    print('Bad Garchim files...')\n",
    "    proc_folder_rem = method_dir + '/' + proc_blob_sub_dir + extension\n",
    "    badg_path_loc = path_loc + '/badg/' + proc_blob_sub_dir + extension\n",
    "    badg_path_loc_down =  badg_path_loc.replace(path_loc,path_loc_down).replace('method2','')\n",
    "    badg_files_list = []\n",
    "    for file in os.listdir(badg_path_loc):\n",
    "        if file.endswith('.npy'):\n",
    "            file = file.replace('_desc','')\n",
    "            badg_files_list.append(file)\n",
    "        \n",
    "    tasks = partial(SelectArray, badg_path_loc_down, cont_name_proc, proc_folder_rem)\n",
    "    with multiprocessing.Pool(1) as p:\n",
    "        result = list(tqdm.tqdm_notebook(p.imap(tasks, badg_files_list), total=len(badg_files_list)))"
   ]
  },
  {
   "cell_type": "code",
   "execution_count": null,
   "metadata": {},
   "outputs": [],
   "source": []
  }
 ],
 "metadata": {
  "kernelspec": {
   "display_name": "PoC ESO",
   "language": "python",
   "name": "eso"
  },
  "language_info": {
   "codemirror_mode": {
    "name": "ipython",
    "version": 3
   },
   "file_extension": ".py",
   "mimetype": "text/x-python",
   "name": "python",
   "nbconvert_exporter": "python",
   "pygments_lexer": "ipython3",
   "version": "3.6.8"
  }
 },
 "nbformat": 4,
 "nbformat_minor": 4
}
