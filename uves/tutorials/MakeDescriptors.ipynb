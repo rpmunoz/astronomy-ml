{
 "cells": [
  {
   "cell_type": "code",
   "execution_count": 76,
   "metadata": {},
   "outputs": [],
   "source": [
    "# This notebook take .fits images and compute the resnet50 descriptors\n",
    "# After that it save the descriptors in a given folder to be used for any porpuse\n",
    "import os\n",
    "import PIL\n",
    "import cv2\n",
    "import glob\n",
    "import pickle\n",
    "import numpy as np\n",
    "import pandas as pd\n",
    "import matplotlib.pyplot as plt\n",
    "import seaborn as sns\n",
    "import random\n",
    "\n",
    "from collections import OrderedDict\n",
    "from sklearn.metrics.pairwise import cosine_similarity\n",
    "from tqdm import tqdm, tqdm_notebook\n",
    "from PIL import Image\n",
    "from scipy import sparse\n",
    "from astropy.io import fits\n",
    "\n",
    "%matplotlib inline"
   ]
  },
  {
   "cell_type": "code",
   "execution_count": 77,
   "metadata": {},
   "outputs": [],
   "source": [
    "import keras\n",
    "import keras.backend as K\n",
    "from keras.applications import nasnet"
   ]
  },
  {
   "cell_type": "code",
   "execution_count": 78,
   "metadata": {},
   "outputs": [
    {
     "data": {
      "text/plain": [
       "[name: \"/device:CPU:0\"\n",
       " device_type: \"CPU\"\n",
       " memory_limit: 268435456\n",
       " locality {\n",
       " }\n",
       " incarnation: 2601809339823777483, name: \"/device:XLA_CPU:0\"\n",
       " device_type: \"XLA_CPU\"\n",
       " memory_limit: 17179869184\n",
       " locality {\n",
       " }\n",
       " incarnation: 10768651888935699840\n",
       " physical_device_desc: \"device: XLA_CPU device\"]"
      ]
     },
     "execution_count": 78,
     "metadata": {},
     "output_type": "execute_result"
    }
   ],
   "source": [
    "import tensorflow as tf\n",
    "from tensorflow.python.client import device_lib\n",
    "device_lib.list_local_devices()"
   ]
  },
  {
   "cell_type": "code",
   "execution_count": 79,
   "metadata": {},
   "outputs": [],
   "source": [
    "config = tf.ConfigProto( device_count = {'CPU': 16} ) \n",
    "sess = tf.Session(config=config) \n",
    "keras.backend.set_session(sess)"
   ]
  },
  {
   "cell_type": "code",
   "execution_count": 80,
   "metadata": {},
   "outputs": [
    {
     "data": {
      "text/plain": [
       "[]"
      ]
     },
     "execution_count": 80,
     "metadata": {},
     "output_type": "execute_result"
    }
   ],
   "source": [
    "from keras import backend as K\n",
    "K.tensorflow_backend._get_available_gpus()"
   ]
  },
  {
   "cell_type": "code",
   "execution_count": 81,
   "metadata": {},
   "outputs": [],
   "source": [
    "# Define the model\n",
    "model = keras.applications.resnet50.ResNet50(include_top=True, \n",
    "                                                 weights='imagenet', \n",
    "                                                 classes=1000)"
   ]
  },
  {
   "cell_type": "code",
   "execution_count": 82,
   "metadata": {},
   "outputs": [],
   "source": [
    "# Get the .fits image, imname, and get the data for the corresponding extension, ext\n",
    "def get_image(imname, ext, verbose=False):\n",
    "    \n",
    "    hdu = fits.open(imname)\n",
    "    data = hdu[ext].data\n",
    "    image = np.empty((3,data.shape[0],data.shape[1]))\n",
    "    image[0] = np.copy(data)\n",
    "    image[1] = np.copy(data)\n",
    "    image[2] = np.copy(data)\n",
    "    image = np.swapaxes(image,0,1)\n",
    "    image = np.swapaxes(image,1,2)\n",
    "\n",
    "    return image"
   ]
  },
  {
   "cell_type": "code",
   "execution_count": 83,
   "metadata": {},
   "outputs": [],
   "source": [
    "# Get descriptors from data for the model\n",
    "def get_descriptor(model, out_layer, model_input):\n",
    "    get_3rd_layer_output = K.function([model.layers[0].input],\n",
    "                                      [model.get_layer(out_layer).output])\n",
    "    layer_output = get_3rd_layer_output([model_input])[0]\n",
    "    return layer_output"
   ]
  },
  {
   "cell_type": "code",
   "execution_count": 84,
   "metadata": {},
   "outputs": [],
   "source": [
    "# Given a list of files, call to get descriptors to create the descriptors arrays \n",
    "def process_imgs(dir_list, layer, ext):\n",
    "\n",
    "    descriptor_len = model.get_layer(layer).output.shape[-1].value\n",
    "    descriptors = np.zeros((len(dir_list), descriptor_len))\n",
    "    \n",
    "    with tqdm(total=len(dir_list)) as pbar:\n",
    "        for img_idx in range(0, len(dir_list)):\n",
    "            imgname = dir_list[img_idx]\n",
    "\n",
    "            try:\n",
    "                img = get_image(imgname, ext)\n",
    "                img = np.expand_dims(img, axis=0)\n",
    "                desc = get_descriptor(model, layer, img)\n",
    "\n",
    "                descriptors[img_idx, :] = desc\n",
    "            except:\n",
    "                descriptors[img_idx, :] = np.nan\n",
    "            \n",
    "            pbar.update(1)\n",
    "            \n",
    "    return descriptors"
   ]
  },
  {
   "cell_type": "code",
   "execution_count": 85,
   "metadata": {},
   "outputs": [],
   "source": [
    "# Paths\n",
    "PROJECT_DIR = \"/data/notebooks/uves_jprieto/Tutorial\"\n",
    "# Model checkpoints\n",
    "CHECKPOINT_DIR = os.path.join(PROJECT_DIR, \"checkpoint\")"
   ]
  },
  {
   "cell_type": "code",
   "execution_count": 86,
   "metadata": {},
   "outputs": [
    {
     "name": "stdout",
     "output_type": "stream",
     "text": [
      "Folder UVES_RED_BIAS contains 97 .fits files.\n",
      "Selecting 10 files.\n"
     ]
    },
    {
     "data": {
      "text/plain": [
       "['./fits_for_test/UVES_RED_BIAS/UVES_RED_BIAS050_0005.fits',\n",
       " './fits_for_test/UVES_RED_BIAS/UVES_RED_BIAS245_0001.fits',\n",
       " './fits_for_test/UVES_RED_BIAS/UVES_RED_BIAS285_0001.fits',\n",
       " './fits_for_test/UVES_RED_BIAS/UVES_RED_BIAS202_0002.fits',\n",
       " './fits_for_test/UVES_RED_BIAS/UVES_RED_BIAS275_0001.fits',\n",
       " './fits_for_test/UVES_RED_BIAS/UVES_RED_BIAS147_0004.fits',\n",
       " './fits_for_test/UVES_RED_BIAS/UVES_RED_BIAS243_0005.fits',\n",
       " './fits_for_test/UVES_RED_BIAS/UVES_RED_BIAS087_0003.fits',\n",
       " './fits_for_test/UVES_RED_BIAS/UVES_RED_BIAS248_0002.fits',\n",
       " './fits_for_test/UVES_RED_BIAS/UVES_RED_BIAS235_0004.fits']"
      ]
     },
     "execution_count": 86,
     "metadata": {},
     "output_type": "execute_result"
    }
   ],
   "source": [
    "# List of fits images to process\n",
    "# * bias_red:\n",
    "#   - UVES_RED_BIAS (ext: 1,2)\n",
    "# * bias_blue:\n",
    "#   - UVES_BLUE_BIAS (ext: 0)\n",
    "# * blue_arc_flat:\n",
    "#   - UVES_BLUE_WAVE (ext: 1,2)\n",
    "#   - UVES_DIC1B_FLAT (ext: 0)\n",
    "#   - UVES_DIC1B_DFLAT (ext: 0)\n",
    "# * red_arc_flat:\n",
    "#   - UVES_RED_WAVE (ext: 1,2)\n",
    "#   - UVES_DIC1R_FLAT (ext: 1,2)\n",
    "# The following lines produce the resnet50 descriptors for the images inside\n",
    "# fits_folder and the corresponding extentsion \n",
    "fits_folder = 'UVES_RED_BIAS'\n",
    "ext = 1\n",
    "\n",
    "fits_data_dir = './fits_for_test'\n",
    "fits_data_dir = os.path.join(fits_data_dir,fits_folder)\n",
    "fits_files = [os.path.join(fits_data_dir,s) for s in os.listdir(fits_data_dir)]\n",
    "\n",
    "# Number of images to process\n",
    "n_files = 10\n",
    "#n_files = len(fits_files)\n",
    "print('Folder '+ fits_folder +' contains '+ str(len(fits_files)) + ' .fits files.')\n",
    "print('Selecting ' + str(n_files) + ' files.')\n",
    "\n",
    "# For random selection\n",
    "#IMG_DIRECTORY_LIST = random.sample(fits_files, n_files)\n",
    "#IMG_DIRECTORY_LIST[0:n_files]\n",
    "\n",
    "IMG_DIRECTORY_LIST = fits_files[0:n_files]\n",
    "IMG_DIRECTORY_LIST"
   ]
  },
  {
   "cell_type": "code",
   "execution_count": 87,
   "metadata": {},
   "outputs": [
    {
     "name": "stderr",
     "output_type": "stream",
     "text": [
      "100%|██████████| 10/10 [01:07<00:00,  6.89s/it]\n"
     ]
    }
   ],
   "source": [
    "# The new descriptors are saved in CHECK_POINT_DIR/full_unflat_desc_...\n",
    "descs_resNet50 = process_imgs(IMG_DIRECTORY_LIST, 'avg_pool', ext) #, save_resized=True) # Already resized in Gotham\n",
    "np_descs = np.array(descs_resNet50)\n",
    "np.save(os.path.join(CHECKPOINT_DIR, 'full_unflat_desc_'+str(fits_folder)+'_ext'+str(ext)+'_resNet50_N'+str(n_files)), descs_resNet50) "
   ]
  },
  {
   "cell_type": "code",
   "execution_count": 75,
   "metadata": {},
   "outputs": [
    {
     "name": "stdout",
     "output_type": "stream",
     "text": [
      "[[4.67186347e-02 2.17468981e-02 4.45539691e-02 ... 2.38590837e+00\n",
      "  9.31940507e-03 2.65751703e-04]\n",
      " [7.47947618e-02 2.63851229e-02 2.76189893e-02 ... 2.75831056e+00\n",
      "  9.24374908e-03 1.78269739e-03]\n",
      " [5.60873523e-02 8.93160421e-03 7.20004439e-02 ... 1.40532506e+00\n",
      "  5.12590446e-03 0.00000000e+00]\n",
      " ...\n",
      " [6.76995441e-02 3.24297957e-02 7.74829388e-02 ... 1.47372866e+00\n",
      "  8.81641917e-03 7.49989471e-04]\n",
      " [2.65275687e-02 1.46869395e-03 6.37227893e-02 ... 1.69652164e+00\n",
      "  1.62558630e-03 0.00000000e+00]\n",
      " [4.35822271e-02 1.70284994e-02 3.22689004e-02 ... 2.48224235e+00\n",
      "  7.52069335e-03 3.18373175e-04]]\n"
     ]
    }
   ],
   "source": [
    "print(np_descs)"
   ]
  },
  {
   "cell_type": "code",
   "execution_count": null,
   "metadata": {},
   "outputs": [],
   "source": []
  }
 ],
 "metadata": {
  "kernelspec": {
   "display_name": "PoC ESO",
   "language": "python",
   "name": "eso"
  },
  "language_info": {
   "codemirror_mode": {
    "name": "ipython",
    "version": 3
   },
   "file_extension": ".py",
   "mimetype": "text/x-python",
   "name": "python",
   "nbconvert_exporter": "python",
   "pygments_lexer": "ipython3",
   "version": "3.6.8"
  }
 },
 "nbformat": 4,
 "nbformat_minor": 4
}
